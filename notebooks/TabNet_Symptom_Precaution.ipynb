{
 "cells": [
  {
   "cell_type": "code",
   "execution_count": 1,
   "id": "63b03ccf",
   "metadata": {},
   "outputs": [],
   "source": [
    "import pandas as pd\n",
    "from tabnet.classifier import TabNetClassifier\n",
    "from tabnet.autoencoder import TabNetAutoencoder\n",
    "import tabnet_utils\n",
    "from sklearn.model_selection import train_test_split\n",
    "from datetime import datetime\n",
    "import tensorflow\n",
    "from sklearn.metrics import mean_absolute_error, mean_squared_error, r2_score, accuracy_score"
   ]
  },
  {
   "cell_type": "code",
   "execution_count": 3,
   "id": "6b631f00",
   "metadata": {},
   "outputs": [],
   "source": [
    "df = pd.read_csv('/home/karim/Research/DSAA2022/symptom/Training.csv')\n",
    "data = df.sample(frac=1).reset_index(drop=True)"
   ]
  },
  {
   "cell_type": "code",
   "execution_count": 4,
   "id": "b70e9583",
   "metadata": {},
   "outputs": [
    {
     "data": {
      "text/html": [
       "<div>\n",
       "<style scoped>\n",
       "    .dataframe tbody tr th:only-of-type {\n",
       "        vertical-align: middle;\n",
       "    }\n",
       "\n",
       "    .dataframe tbody tr th {\n",
       "        vertical-align: top;\n",
       "    }\n",
       "\n",
       "    .dataframe thead th {\n",
       "        text-align: right;\n",
       "    }\n",
       "</style>\n",
       "<table border=\"1\" class=\"dataframe\">\n",
       "  <thead>\n",
       "    <tr style=\"text-align: right;\">\n",
       "      <th></th>\n",
       "      <th>itching</th>\n",
       "      <th>skin_rash</th>\n",
       "      <th>nodal_skin_eruptions</th>\n",
       "      <th>continuous_sneezing</th>\n",
       "      <th>shivering</th>\n",
       "      <th>chills</th>\n",
       "      <th>joint_pain</th>\n",
       "      <th>stomach_pain</th>\n",
       "      <th>acidity</th>\n",
       "      <th>ulcers_on_tongue</th>\n",
       "      <th>...</th>\n",
       "      <th>blackheads</th>\n",
       "      <th>scurring</th>\n",
       "      <th>skin_peeling</th>\n",
       "      <th>silver_like_dusting</th>\n",
       "      <th>small_dents_in_nails</th>\n",
       "      <th>inflammatory_nails</th>\n",
       "      <th>blister</th>\n",
       "      <th>red_sore_around_nose</th>\n",
       "      <th>yellow_crust_ooze</th>\n",
       "      <th>prognosis</th>\n",
       "    </tr>\n",
       "  </thead>\n",
       "  <tbody>\n",
       "    <tr>\n",
       "      <th>0</th>\n",
       "      <td>0</td>\n",
       "      <td>0</td>\n",
       "      <td>0</td>\n",
       "      <td>0</td>\n",
       "      <td>0</td>\n",
       "      <td>0</td>\n",
       "      <td>1</td>\n",
       "      <td>0</td>\n",
       "      <td>0</td>\n",
       "      <td>0</td>\n",
       "      <td>...</td>\n",
       "      <td>0</td>\n",
       "      <td>0</td>\n",
       "      <td>0</td>\n",
       "      <td>0</td>\n",
       "      <td>0</td>\n",
       "      <td>0</td>\n",
       "      <td>0</td>\n",
       "      <td>0</td>\n",
       "      <td>0</td>\n",
       "      <td>Hepatitis D</td>\n",
       "    </tr>\n",
       "    <tr>\n",
       "      <th>1</th>\n",
       "      <td>0</td>\n",
       "      <td>0</td>\n",
       "      <td>0</td>\n",
       "      <td>0</td>\n",
       "      <td>0</td>\n",
       "      <td>0</td>\n",
       "      <td>0</td>\n",
       "      <td>0</td>\n",
       "      <td>0</td>\n",
       "      <td>0</td>\n",
       "      <td>...</td>\n",
       "      <td>0</td>\n",
       "      <td>0</td>\n",
       "      <td>0</td>\n",
       "      <td>0</td>\n",
       "      <td>0</td>\n",
       "      <td>0</td>\n",
       "      <td>0</td>\n",
       "      <td>0</td>\n",
       "      <td>0</td>\n",
       "      <td>Varicose veins</td>\n",
       "    </tr>\n",
       "    <tr>\n",
       "      <th>2</th>\n",
       "      <td>0</td>\n",
       "      <td>1</td>\n",
       "      <td>0</td>\n",
       "      <td>0</td>\n",
       "      <td>0</td>\n",
       "      <td>0</td>\n",
       "      <td>1</td>\n",
       "      <td>0</td>\n",
       "      <td>0</td>\n",
       "      <td>0</td>\n",
       "      <td>...</td>\n",
       "      <td>0</td>\n",
       "      <td>0</td>\n",
       "      <td>1</td>\n",
       "      <td>1</td>\n",
       "      <td>1</td>\n",
       "      <td>1</td>\n",
       "      <td>0</td>\n",
       "      <td>0</td>\n",
       "      <td>0</td>\n",
       "      <td>Psoriasis</td>\n",
       "    </tr>\n",
       "    <tr>\n",
       "      <th>3</th>\n",
       "      <td>1</td>\n",
       "      <td>1</td>\n",
       "      <td>0</td>\n",
       "      <td>0</td>\n",
       "      <td>0</td>\n",
       "      <td>0</td>\n",
       "      <td>0</td>\n",
       "      <td>0</td>\n",
       "      <td>0</td>\n",
       "      <td>0</td>\n",
       "      <td>...</td>\n",
       "      <td>0</td>\n",
       "      <td>0</td>\n",
       "      <td>0</td>\n",
       "      <td>0</td>\n",
       "      <td>0</td>\n",
       "      <td>0</td>\n",
       "      <td>0</td>\n",
       "      <td>0</td>\n",
       "      <td>0</td>\n",
       "      <td>Chicken pox</td>\n",
       "    </tr>\n",
       "    <tr>\n",
       "      <th>4</th>\n",
       "      <td>0</td>\n",
       "      <td>0</td>\n",
       "      <td>0</td>\n",
       "      <td>0</td>\n",
       "      <td>0</td>\n",
       "      <td>0</td>\n",
       "      <td>0</td>\n",
       "      <td>0</td>\n",
       "      <td>0</td>\n",
       "      <td>0</td>\n",
       "      <td>...</td>\n",
       "      <td>0</td>\n",
       "      <td>0</td>\n",
       "      <td>0</td>\n",
       "      <td>0</td>\n",
       "      <td>0</td>\n",
       "      <td>0</td>\n",
       "      <td>0</td>\n",
       "      <td>0</td>\n",
       "      <td>0</td>\n",
       "      <td>Hypoglycemia</td>\n",
       "    </tr>\n",
       "  </tbody>\n",
       "</table>\n",
       "<p>5 rows × 133 columns</p>\n",
       "</div>"
      ],
      "text/plain": [
       "   itching  skin_rash  nodal_skin_eruptions  continuous_sneezing  shivering  \\\n",
       "0        0          0                     0                    0          0   \n",
       "1        0          0                     0                    0          0   \n",
       "2        0          1                     0                    0          0   \n",
       "3        1          1                     0                    0          0   \n",
       "4        0          0                     0                    0          0   \n",
       "\n",
       "   chills  joint_pain  stomach_pain  acidity  ulcers_on_tongue  ...  \\\n",
       "0       0           1             0        0                 0  ...   \n",
       "1       0           0             0        0                 0  ...   \n",
       "2       0           1             0        0                 0  ...   \n",
       "3       0           0             0        0                 0  ...   \n",
       "4       0           0             0        0                 0  ...   \n",
       "\n",
       "   blackheads  scurring  skin_peeling  silver_like_dusting  \\\n",
       "0           0         0             0                    0   \n",
       "1           0         0             0                    0   \n",
       "2           0         0             1                    1   \n",
       "3           0         0             0                    0   \n",
       "4           0         0             0                    0   \n",
       "\n",
       "   small_dents_in_nails  inflammatory_nails  blister  red_sore_around_nose  \\\n",
       "0                     0                   0        0                     0   \n",
       "1                     0                   0        0                     0   \n",
       "2                     1                   1        0                     0   \n",
       "3                     0                   0        0                     0   \n",
       "4                     0                   0        0                     0   \n",
       "\n",
       "   yellow_crust_ooze       prognosis  \n",
       "0                  0     Hepatitis D  \n",
       "1                  0  Varicose veins  \n",
       "2                  0       Psoriasis  \n",
       "3                  0     Chicken pox  \n",
       "4                  0    Hypoglycemia  \n",
       "\n",
       "[5 rows x 133 columns]"
      ]
     },
     "execution_count": 4,
     "metadata": {},
     "output_type": "execute_result"
    }
   ],
   "source": [
    "data.head()"
   ]
  },
  {
   "cell_type": "code",
   "execution_count": 5,
   "id": "7405597e",
   "metadata": {},
   "outputs": [],
   "source": [
    "from sklearn.preprocessing import LabelEncoder\n",
    "\n",
    "le = LabelEncoder()\n",
    "data['prognosis'] = le.fit_transform(data['prognosis'])"
   ]
  },
  {
   "cell_type": "code",
   "execution_count": 6,
   "id": "5a1564c3",
   "metadata": {},
   "outputs": [
    {
     "data": {
      "text/html": [
       "<div>\n",
       "<style scoped>\n",
       "    .dataframe tbody tr th:only-of-type {\n",
       "        vertical-align: middle;\n",
       "    }\n",
       "\n",
       "    .dataframe tbody tr th {\n",
       "        vertical-align: top;\n",
       "    }\n",
       "\n",
       "    .dataframe thead th {\n",
       "        text-align: right;\n",
       "    }\n",
       "</style>\n",
       "<table border=\"1\" class=\"dataframe\">\n",
       "  <thead>\n",
       "    <tr style=\"text-align: right;\">\n",
       "      <th></th>\n",
       "      <th>itching</th>\n",
       "      <th>skin_rash</th>\n",
       "      <th>nodal_skin_eruptions</th>\n",
       "      <th>continuous_sneezing</th>\n",
       "      <th>shivering</th>\n",
       "      <th>chills</th>\n",
       "      <th>joint_pain</th>\n",
       "      <th>stomach_pain</th>\n",
       "      <th>acidity</th>\n",
       "      <th>ulcers_on_tongue</th>\n",
       "      <th>...</th>\n",
       "      <th>blackheads</th>\n",
       "      <th>scurring</th>\n",
       "      <th>skin_peeling</th>\n",
       "      <th>silver_like_dusting</th>\n",
       "      <th>small_dents_in_nails</th>\n",
       "      <th>inflammatory_nails</th>\n",
       "      <th>blister</th>\n",
       "      <th>red_sore_around_nose</th>\n",
       "      <th>yellow_crust_ooze</th>\n",
       "      <th>prognosis</th>\n",
       "    </tr>\n",
       "  </thead>\n",
       "  <tbody>\n",
       "    <tr>\n",
       "      <th>0</th>\n",
       "      <td>0</td>\n",
       "      <td>0</td>\n",
       "      <td>0</td>\n",
       "      <td>0</td>\n",
       "      <td>0</td>\n",
       "      <td>0</td>\n",
       "      <td>1</td>\n",
       "      <td>0</td>\n",
       "      <td>0</td>\n",
       "      <td>0</td>\n",
       "      <td>...</td>\n",
       "      <td>0</td>\n",
       "      <td>0</td>\n",
       "      <td>0</td>\n",
       "      <td>0</td>\n",
       "      <td>0</td>\n",
       "      <td>0</td>\n",
       "      <td>0</td>\n",
       "      <td>0</td>\n",
       "      <td>0</td>\n",
       "      <td>21</td>\n",
       "    </tr>\n",
       "    <tr>\n",
       "      <th>1</th>\n",
       "      <td>0</td>\n",
       "      <td>0</td>\n",
       "      <td>0</td>\n",
       "      <td>0</td>\n",
       "      <td>0</td>\n",
       "      <td>0</td>\n",
       "      <td>0</td>\n",
       "      <td>0</td>\n",
       "      <td>0</td>\n",
       "      <td>0</td>\n",
       "      <td>...</td>\n",
       "      <td>0</td>\n",
       "      <td>0</td>\n",
       "      <td>0</td>\n",
       "      <td>0</td>\n",
       "      <td>0</td>\n",
       "      <td>0</td>\n",
       "      <td>0</td>\n",
       "      <td>0</td>\n",
       "      <td>0</td>\n",
       "      <td>39</td>\n",
       "    </tr>\n",
       "    <tr>\n",
       "      <th>2</th>\n",
       "      <td>0</td>\n",
       "      <td>1</td>\n",
       "      <td>0</td>\n",
       "      <td>0</td>\n",
       "      <td>0</td>\n",
       "      <td>0</td>\n",
       "      <td>1</td>\n",
       "      <td>0</td>\n",
       "      <td>0</td>\n",
       "      <td>0</td>\n",
       "      <td>...</td>\n",
       "      <td>0</td>\n",
       "      <td>0</td>\n",
       "      <td>1</td>\n",
       "      <td>1</td>\n",
       "      <td>1</td>\n",
       "      <td>1</td>\n",
       "      <td>0</td>\n",
       "      <td>0</td>\n",
       "      <td>0</td>\n",
       "      <td>35</td>\n",
       "    </tr>\n",
       "    <tr>\n",
       "      <th>3</th>\n",
       "      <td>1</td>\n",
       "      <td>1</td>\n",
       "      <td>0</td>\n",
       "      <td>0</td>\n",
       "      <td>0</td>\n",
       "      <td>0</td>\n",
       "      <td>0</td>\n",
       "      <td>0</td>\n",
       "      <td>0</td>\n",
       "      <td>0</td>\n",
       "      <td>...</td>\n",
       "      <td>0</td>\n",
       "      <td>0</td>\n",
       "      <td>0</td>\n",
       "      <td>0</td>\n",
       "      <td>0</td>\n",
       "      <td>0</td>\n",
       "      <td>0</td>\n",
       "      <td>0</td>\n",
       "      <td>0</td>\n",
       "      <td>8</td>\n",
       "    </tr>\n",
       "    <tr>\n",
       "      <th>4</th>\n",
       "      <td>0</td>\n",
       "      <td>0</td>\n",
       "      <td>0</td>\n",
       "      <td>0</td>\n",
       "      <td>0</td>\n",
       "      <td>0</td>\n",
       "      <td>0</td>\n",
       "      <td>0</td>\n",
       "      <td>0</td>\n",
       "      <td>0</td>\n",
       "      <td>...</td>\n",
       "      <td>0</td>\n",
       "      <td>0</td>\n",
       "      <td>0</td>\n",
       "      <td>0</td>\n",
       "      <td>0</td>\n",
       "      <td>0</td>\n",
       "      <td>0</td>\n",
       "      <td>0</td>\n",
       "      <td>0</td>\n",
       "      <td>25</td>\n",
       "    </tr>\n",
       "  </tbody>\n",
       "</table>\n",
       "<p>5 rows × 133 columns</p>\n",
       "</div>"
      ],
      "text/plain": [
       "   itching  skin_rash  nodal_skin_eruptions  continuous_sneezing  shivering  \\\n",
       "0        0          0                     0                    0          0   \n",
       "1        0          0                     0                    0          0   \n",
       "2        0          1                     0                    0          0   \n",
       "3        1          1                     0                    0          0   \n",
       "4        0          0                     0                    0          0   \n",
       "\n",
       "   chills  joint_pain  stomach_pain  acidity  ulcers_on_tongue  ...  \\\n",
       "0       0           1             0        0                 0  ...   \n",
       "1       0           0             0        0                 0  ...   \n",
       "2       0           1             0        0                 0  ...   \n",
       "3       0           0             0        0                 0  ...   \n",
       "4       0           0             0        0                 0  ...   \n",
       "\n",
       "   blackheads  scurring  skin_peeling  silver_like_dusting  \\\n",
       "0           0         0             0                    0   \n",
       "1           0         0             0                    0   \n",
       "2           0         0             1                    1   \n",
       "3           0         0             0                    0   \n",
       "4           0         0             0                    0   \n",
       "\n",
       "   small_dents_in_nails  inflammatory_nails  blister  red_sore_around_nose  \\\n",
       "0                     0                   0        0                     0   \n",
       "1                     0                   0        0                     0   \n",
       "2                     1                   1        0                     0   \n",
       "3                     0                   0        0                     0   \n",
       "4                     0                   0        0                     0   \n",
       "\n",
       "   yellow_crust_ooze  prognosis  \n",
       "0                  0         21  \n",
       "1                  0         39  \n",
       "2                  0         35  \n",
       "3                  0          8  \n",
       "4                  0         25  \n",
       "\n",
       "[5 rows x 133 columns]"
      ]
     },
     "execution_count": 6,
     "metadata": {},
     "output_type": "execute_result"
    }
   ],
   "source": [
    "data.head()"
   ]
  },
  {
   "cell_type": "code",
   "execution_count": 7,
   "id": "5e33067c",
   "metadata": {},
   "outputs": [],
   "source": [
    "_, types = tabnet_utils.convert_data_types(data) \n",
    "X_train, X_test, y_train, y_test = train_test_split(data.iloc[:,:-1], data.iloc[:,-1])\n",
    "X_train, X_valid, y_train, y_valid = train_test_split(X_train, y_train, test_size=0.2, random_state=42)"
   ]
  },
  {
   "cell_type": "code",
   "execution_count": 8,
   "id": "67741e10",
   "metadata": {},
   "outputs": [
    {
     "data": {
      "text/plain": [
       "((2952, 132), (738, 132), (1230, 132))"
      ]
     },
     "execution_count": 8,
     "metadata": {},
     "output_type": "execute_result"
    }
   ],
   "source": [
    "X_train.shape, X_valid.shape, X_test.shape"
   ]
  },
  {
   "cell_type": "code",
   "execution_count": 9,
   "id": "790dc1e2",
   "metadata": {},
   "outputs": [
    {
     "data": {
      "text/plain": [
       "41"
      ]
     },
     "execution_count": 9,
     "metadata": {},
     "output_type": "execute_result"
    }
   ],
   "source": [
    "len(y_train.unique())"
   ]
  },
  {
   "cell_type": "code",
   "execution_count": 10,
   "id": "ba1611a2",
   "metadata": {},
   "outputs": [],
   "source": [
    "columns = [tabnet_utils.get_feature(f, types[k]) for k, f in X_train.iteritems()] "
   ]
  },
  {
   "cell_type": "code",
   "execution_count": 12,
   "id": "d70742c7",
   "metadata": {},
   "outputs": [],
   "source": [
    "y_train = tensorflow.keras.utils.to_categorical(y_train, 41)\n",
    "y_valid = tensorflow.keras.utils.to_categorical(y_valid, 41)\n",
    "y_test = tensorflow.keras.utils.to_categorical(y_test, 41)"
   ]
  },
  {
   "cell_type": "code",
   "execution_count": 13,
   "id": "b7dfbe83",
   "metadata": {},
   "outputs": [
    {
     "name": "stderr",
     "output_type": "stream",
     "text": [
      "2022-05-20 09:34:50.624203: I tensorflow/core/platform/cpu_feature_guard.cc:151] This TensorFlow binary is optimized with oneAPI Deep Neural Network Library (oneDNN) to use the following CPU instructions in performance-critical operations:  AVX2 AVX512F FMA\n",
      "To enable them in other operations, rebuild TensorFlow with the appropriate compiler flags.\n",
      "2022-05-20 09:34:52.929252: I tensorflow/core/common_runtime/gpu/gpu_device.cc:1525] Created device /job:localhost/replica:0/task:0/device:GPU:0 with 276 MB memory:  -> device: 0, name: Quadro RTX 6000, pci bus id: 0000:17:00.0, compute capability: 7.5\n",
      "2022-05-20 09:34:52.930123: I tensorflow/core/common_runtime/gpu/gpu_device.cc:1525] Created device /job:localhost/replica:0/task:0/device:GPU:1 with 22501 MB memory:  -> device: 1, name: Quadro RTX 6000, pci bus id: 0000:73:00.0, compute capability: 7.5\n",
      "2022-05-20 09:34:52.930824: I tensorflow/core/common_runtime/gpu/gpu_device.cc:1525] Created device /job:localhost/replica:0/task:0/device:GPU:2 with 22519 MB memory:  -> device: 2, name: Quadro RTX 6000, pci bus id: 0000:a6:00.0, compute capability: 7.5\n"
     ]
    }
   ],
   "source": [
    "train, valid, test = tabnet_utils.df_to_dataset(X_train, y_train), tabnet_utils.df_to_dataset(X_valid, y_valid), tabnet_utils.df_to_dataset(X_test, y_test) "
   ]
  },
  {
   "cell_type": "code",
   "execution_count": 16,
   "id": "36913ca2",
   "metadata": {},
   "outputs": [
    {
     "name": "stdout",
     "output_type": "stream",
     "text": [
      "Epoch 1/10\n"
     ]
    },
    {
     "ename": "ValueError",
     "evalue": "in user code:\n\n    File \"/home/karim/.local/lib/python3.8/site-packages/keras/engine/training.py\", line 1021, in train_function  *\n        return step_function(self, iterator)\n    File \"/home/karim/.local/lib/python3.8/site-packages/keras/engine/training.py\", line 1010, in step_function  **\n        outputs = model.distribute_strategy.run(run_step, args=(data,))\n    File \"/home/karim/.local/lib/python3.8/site-packages/keras/engine/training.py\", line 1000, in run_step  **\n        outputs = model.train_step(data)\n    File \"/home/karim/.local/lib/python3.8/site-packages/keras/engine/training.py\", line 859, in train_step\n        y_pred = self(x, training=True)\n    File \"/home/karim/.local/lib/python3.8/site-packages/keras/utils/traceback_utils.py\", line 67, in error_handler\n        raise e.with_traceback(filtered_tb) from None\n\n    ValueError: Exception encountered when calling layer \"tab_net_classifier_2\" (type TabNetClassifier).\n    \n    in user code:\n    \n        File \"/home/karim/Research/DSAA2022/tabnet/classifier.py\", line 108, in call  *\n            prediction, _, _, _ = self.encoder(inputs, training=True)\n        File \"/home/karim/.local/lib/python3.8/site-packages/keras/utils/traceback_utils.py\", line 67, in error_handler  **\n            raise e.with_traceback(filtered_tb) from None\n    \n        ValueError: Exception encountered when calling layer \"tab_net_encoder_2\" (type TabNetEncoder).\n        \n        in user code:\n        \n            File \"/home/karim/Research/DSAA2022/tabnet/encoder.py\", line 162, in call  *\n                features = self.input_features(inputs)\n            File \"/home/karim/.local/lib/python3.8/site-packages/keras/utils/traceback_utils.py\", line 67, in error_handler  **\n                raise e.with_traceback(filtered_tb) from None\n            File \"/usr/lib/python3.8/contextlib.py\", line 113, in __enter__\n                return next(self.gen)\n        \n            ValueError: Exception encountered when calling layer \"dense_features_2\" (type DenseFeatures).\n            \n            'dischromic _patches' is not a valid scope name. A scope name has to match the following pattern: ^[A-Za-z0-9_.\\\\/>-]*$\n            \n            Call arguments received:\n              • features={'itching': 'tf.Tensor(shape=(None,), dtype=int64)', 'skin_rash': 'tf.Tensor(shape=(None,), dtype=int64)', 'nodal_skin_eruptions': 'tf.Tensor(shape=(None,), dtype=int64)', 'continuous_sneezing': 'tf.Tensor(shape=(None,), dtype=int64)', 'shivering': 'tf.Tensor(shape=(None,), dtype=int64)', 'chills': 'tf.Tensor(shape=(None,), dtype=int64)', 'joint_pain': 'tf.Tensor(shape=(None,), dtype=int64)', 'stomach_pain': 'tf.Tensor(shape=(None,), dtype=int64)', 'acidity': 'tf.Tensor(shape=(None,), dtype=int64)', 'ulcers_on_tongue': 'tf.Tensor(shape=(None,), dtype=int64)', 'muscle_wasting': 'tf.Tensor(shape=(None,), dtype=int64)', 'vomiting': 'tf.Tensor(shape=(None,), dtype=int64)', 'burning_micturition': 'tf.Tensor(shape=(None,), dtype=int64)', 'spotting_ urination': 'tf.Tensor(shape=(None,), dtype=int64)', 'fatigue': 'tf.Tensor(shape=(None,), dtype=int64)', 'weight_gain': 'tf.Tensor(shape=(None,), dtype=int64)', 'anxiety': 'tf.Tensor(shape=(None,), dtype=int64)', 'cold_hands_and_feets': 'tf.Tensor(shape=(None,), dtype=int64)', 'mood_swings': 'tf.Tensor(shape=(None,), dtype=int64)', 'weight_loss': 'tf.Tensor(shape=(None,), dtype=int64)', 'restlessness': 'tf.Tensor(shape=(None,), dtype=int64)', 'lethargy': 'tf.Tensor(shape=(None,), dtype=int64)', 'patches_in_throat': 'tf.Tensor(shape=(None,), dtype=int64)', 'irregular_sugar_level': 'tf.Tensor(shape=(None,), dtype=int64)', 'cough': 'tf.Tensor(shape=(None,), dtype=int64)', 'high_fever': 'tf.Tensor(shape=(None,), dtype=int64)', 'sunken_eyes': 'tf.Tensor(shape=(None,), dtype=int64)', 'breathlessness': 'tf.Tensor(shape=(None,), dtype=int64)', 'sweating': 'tf.Tensor(shape=(None,), dtype=int64)', 'dehydration': 'tf.Tensor(shape=(None,), dtype=int64)', 'indigestion': 'tf.Tensor(shape=(None,), dtype=int64)', 'headache': 'tf.Tensor(shape=(None,), dtype=int64)', 'yellowish_skin': 'tf.Tensor(shape=(None,), dtype=int64)', 'dark_urine': 'tf.Tensor(shape=(None,), dtype=int64)', 'nausea': 'tf.Tensor(shape=(None,), dtype=int64)', 'loss_of_appetite': 'tf.Tensor(shape=(None,), dtype=int64)', 'pain_behind_the_eyes': 'tf.Tensor(shape=(None,), dtype=int64)', 'back_pain': 'tf.Tensor(shape=(None,), dtype=int64)', 'constipation': 'tf.Tensor(shape=(None,), dtype=int64)', 'abdominal_pain': 'tf.Tensor(shape=(None,), dtype=int64)', 'diarrhoea': 'tf.Tensor(shape=(None,), dtype=int64)', 'mild_fever': 'tf.Tensor(shape=(None,), dtype=int64)', 'yellow_urine': 'tf.Tensor(shape=(None,), dtype=int64)', 'yellowing_of_eyes': 'tf.Tensor(shape=(None,), dtype=int64)', 'acute_liver_failure': 'tf.Tensor(shape=(None,), dtype=int64)', 'fluid_overload': 'tf.Tensor(shape=(None,), dtype=int64)', 'swelling_of_stomach': 'tf.Tensor(shape=(None,), dtype=int64)', 'swelled_lymph_nodes': 'tf.Tensor(shape=(None,), dtype=int64)', 'malaise': 'tf.Tensor(shape=(None,), dtype=int64)', 'blurred_and_distorted_vision': 'tf.Tensor(shape=(None,), dtype=int64)', 'phlegm': 'tf.Tensor(shape=(None,), dtype=int64)', 'throat_irritation': 'tf.Tensor(shape=(None,), dtype=int64)', 'redness_of_eyes': 'tf.Tensor(shape=(None,), dtype=int64)', 'sinus_pressure': 'tf.Tensor(shape=(None,), dtype=int64)', 'runny_nose': 'tf.Tensor(shape=(None,), dtype=int64)', 'congestion': 'tf.Tensor(shape=(None,), dtype=int64)', 'chest_pain': 'tf.Tensor(shape=(None,), dtype=int64)', 'weakness_in_limbs': 'tf.Tensor(shape=(None,), dtype=int64)', 'fast_heart_rate': 'tf.Tensor(shape=(None,), dtype=int64)', 'pain_during_bowel_movements': 'tf.Tensor(shape=(None,), dtype=int64)', 'pain_in_anal_region': 'tf.Tensor(shape=(None,), dtype=int64)', 'bloody_stool': 'tf.Tensor(shape=(None,), dtype=int64)', 'irritation_in_anus': 'tf.Tensor(shape=(None,), dtype=int64)', 'neck_pain': 'tf.Tensor(shape=(None,), dtype=int64)', 'dizziness': 'tf.Tensor(shape=(None,), dtype=int64)', 'cramps': 'tf.Tensor(shape=(None,), dtype=int64)', 'bruising': 'tf.Tensor(shape=(None,), dtype=int64)', 'obesity': 'tf.Tensor(shape=(None,), dtype=int64)', 'swollen_legs': 'tf.Tensor(shape=(None,), dtype=int64)', 'swollen_blood_vessels': 'tf.Tensor(shape=(None,), dtype=int64)', 'puffy_face_and_eyes': 'tf.Tensor(shape=(None,), dtype=int64)', 'enlarged_thyroid': 'tf.Tensor(shape=(None,), dtype=int64)', 'brittle_nails': 'tf.Tensor(shape=(None,), dtype=int64)', 'swollen_extremeties': 'tf.Tensor(shape=(None,), dtype=int64)', 'excessive_hunger': 'tf.Tensor(shape=(None,), dtype=int64)', 'extra_marital_contacts': 'tf.Tensor(shape=(None,), dtype=int64)', 'drying_and_tingling_lips': 'tf.Tensor(shape=(None,), dtype=int64)', 'slurred_speech': 'tf.Tensor(shape=(None,), dtype=int64)', 'knee_pain': 'tf.Tensor(shape=(None,), dtype=int64)', 'hip_joint_pain': 'tf.Tensor(shape=(None,), dtype=int64)', 'muscle_weakness': 'tf.Tensor(shape=(None,), dtype=int64)', 'stiff_neck': 'tf.Tensor(shape=(None,), dtype=int64)', 'swelling_joints': 'tf.Tensor(shape=(None,), dtype=int64)', 'movement_stiffness': 'tf.Tensor(shape=(None,), dtype=int64)', 'spinning_movements': 'tf.Tensor(shape=(None,), dtype=int64)', 'loss_of_balance': 'tf.Tensor(shape=(None,), dtype=int64)', 'unsteadiness': 'tf.Tensor(shape=(None,), dtype=int64)', 'weakness_of_one_body_side': 'tf.Tensor(shape=(None,), dtype=int64)', 'loss_of_smell': 'tf.Tensor(shape=(None,), dtype=int64)', 'bladder_discomfort': 'tf.Tensor(shape=(None,), dtype=int64)', 'foul_smell_of urine': 'tf.Tensor(shape=(None,), dtype=int64)', 'continuous_feel_of_urine': 'tf.Tensor(shape=(None,), dtype=int64)', 'passage_of_gases': 'tf.Tensor(shape=(None,), dtype=int64)', 'internal_itching': 'tf.Tensor(shape=(None,), dtype=int64)', 'toxic_look_(typhos)': 'tf.Tensor(shape=(None,), dtype=int64)', 'depression': 'tf.Tensor(shape=(None,), dtype=int64)', 'irritability': 'tf.Tensor(shape=(None,), dtype=int64)', 'muscle_pain': 'tf.Tensor(shape=(None,), dtype=int64)', 'altered_sensorium': 'tf.Tensor(shape=(None,), dtype=int64)', 'red_spots_over_body': 'tf.Tensor(shape=(None,), dtype=int64)', 'belly_pain': 'tf.Tensor(shape=(None,), dtype=int64)', 'abnormal_menstruation': 'tf.Tensor(shape=(None,), dtype=int64)', 'dischromic _patches': 'tf.Tensor(shape=(None,), dtype=int64)', 'watering_from_eyes': 'tf.Tensor(shape=(None,), dtype=int64)', 'increased_appetite': 'tf.Tensor(shape=(None,), dtype=int64)', 'polyuria': 'tf.Tensor(shape=(None,), dtype=int64)', 'family_history': 'tf.Tensor(shape=(None,), dtype=int64)', 'mucoid_sputum': 'tf.Tensor(shape=(None,), dtype=int64)', 'rusty_sputum': 'tf.Tensor(shape=(None,), dtype=int64)', 'lack_of_concentration': 'tf.Tensor(shape=(None,), dtype=int64)', 'visual_disturbances': 'tf.Tensor(shape=(None,), dtype=int64)', 'receiving_blood_transfusion': 'tf.Tensor(shape=(None,), dtype=int64)', 'receiving_unsterile_injections': 'tf.Tensor(shape=(None,), dtype=int64)', 'coma': 'tf.Tensor(shape=(None,), dtype=int64)', 'stomach_bleeding': 'tf.Tensor(shape=(None,), dtype=int64)', 'distention_of_abdomen': 'tf.Tensor(shape=(None,), dtype=int64)', 'history_of_alcohol_consumption': 'tf.Tensor(shape=(None,), dtype=int64)', 'fluid_overload.1': 'tf.Tensor(shape=(None,), dtype=int64)', 'blood_in_sputum': 'tf.Tensor(shape=(None,), dtype=int64)', 'prominent_veins_on_calf': 'tf.Tensor(shape=(None,), dtype=int64)', 'palpitations': 'tf.Tensor(shape=(None,), dtype=int64)', 'painful_walking': 'tf.Tensor(shape=(None,), dtype=int64)', 'pus_filled_pimples': 'tf.Tensor(shape=(None,), dtype=int64)', 'blackheads': 'tf.Tensor(shape=(None,), dtype=int64)', 'scurring': 'tf.Tensor(shape=(None,), dtype=int64)', 'skin_peeling': 'tf.Tensor(shape=(None,), dtype=int64)', 'silver_like_dusting': 'tf.Tensor(shape=(None,), dtype=int64)', 'small_dents_in_nails': 'tf.Tensor(shape=(None,), dtype=int64)', 'inflammatory_nails': 'tf.Tensor(shape=(None,), dtype=int64)', 'blister': 'tf.Tensor(shape=(None,), dtype=int64)', 'red_sore_around_nose': 'tf.Tensor(shape=(None,), dtype=int64)', 'yellow_crust_ooze': 'tf.Tensor(shape=(None,), dtype=int64)'}\n              • cols_to_output_tensors=None\n              • training=True\n        \n        \n        Call arguments received:\n          • inputs={'itching': 'tf.Tensor(shape=(None,), dtype=int64)', 'skin_rash': 'tf.Tensor(shape=(None,), dtype=int64)', 'nodal_skin_eruptions': 'tf.Tensor(shape=(None,), dtype=int64)', 'continuous_sneezing': 'tf.Tensor(shape=(None,), dtype=int64)', 'shivering': 'tf.Tensor(shape=(None,), dtype=int64)', 'chills': 'tf.Tensor(shape=(None,), dtype=int64)', 'joint_pain': 'tf.Tensor(shape=(None,), dtype=int64)', 'stomach_pain': 'tf.Tensor(shape=(None,), dtype=int64)', 'acidity': 'tf.Tensor(shape=(None,), dtype=int64)', 'ulcers_on_tongue': 'tf.Tensor(shape=(None,), dtype=int64)', 'muscle_wasting': 'tf.Tensor(shape=(None,), dtype=int64)', 'vomiting': 'tf.Tensor(shape=(None,), dtype=int64)', 'burning_micturition': 'tf.Tensor(shape=(None,), dtype=int64)', 'spotting_ urination': 'tf.Tensor(shape=(None,), dtype=int64)', 'fatigue': 'tf.Tensor(shape=(None,), dtype=int64)', 'weight_gain': 'tf.Tensor(shape=(None,), dtype=int64)', 'anxiety': 'tf.Tensor(shape=(None,), dtype=int64)', 'cold_hands_and_feets': 'tf.Tensor(shape=(None,), dtype=int64)', 'mood_swings': 'tf.Tensor(shape=(None,), dtype=int64)', 'weight_loss': 'tf.Tensor(shape=(None,), dtype=int64)', 'restlessness': 'tf.Tensor(shape=(None,), dtype=int64)', 'lethargy': 'tf.Tensor(shape=(None,), dtype=int64)', 'patches_in_throat': 'tf.Tensor(shape=(None,), dtype=int64)', 'irregular_sugar_level': 'tf.Tensor(shape=(None,), dtype=int64)', 'cough': 'tf.Tensor(shape=(None,), dtype=int64)', 'high_fever': 'tf.Tensor(shape=(None,), dtype=int64)', 'sunken_eyes': 'tf.Tensor(shape=(None,), dtype=int64)', 'breathlessness': 'tf.Tensor(shape=(None,), dtype=int64)', 'sweating': 'tf.Tensor(shape=(None,), dtype=int64)', 'dehydration': 'tf.Tensor(shape=(None,), dtype=int64)', 'indigestion': 'tf.Tensor(shape=(None,), dtype=int64)', 'headache': 'tf.Tensor(shape=(None,), dtype=int64)', 'yellowish_skin': 'tf.Tensor(shape=(None,), dtype=int64)', 'dark_urine': 'tf.Tensor(shape=(None,), dtype=int64)', 'nausea': 'tf.Tensor(shape=(None,), dtype=int64)', 'loss_of_appetite': 'tf.Tensor(shape=(None,), dtype=int64)', 'pain_behind_the_eyes': 'tf.Tensor(shape=(None,), dtype=int64)', 'back_pain': 'tf.Tensor(shape=(None,), dtype=int64)', 'constipation': 'tf.Tensor(shape=(None,), dtype=int64)', 'abdominal_pain': 'tf.Tensor(shape=(None,), dtype=int64)', 'diarrhoea': 'tf.Tensor(shape=(None,), dtype=int64)', 'mild_fever': 'tf.Tensor(shape=(None,), dtype=int64)', 'yellow_urine': 'tf.Tensor(shape=(None,), dtype=int64)', 'yellowing_of_eyes': 'tf.Tensor(shape=(None,), dtype=int64)', 'acute_liver_failure': 'tf.Tensor(shape=(None,), dtype=int64)', 'fluid_overload': 'tf.Tensor(shape=(None,), dtype=int64)', 'swelling_of_stomach': 'tf.Tensor(shape=(None,), dtype=int64)', 'swelled_lymph_nodes': 'tf.Tensor(shape=(None,), dtype=int64)', 'malaise': 'tf.Tensor(shape=(None,), dtype=int64)', 'blurred_and_distorted_vision': 'tf.Tensor(shape=(None,), dtype=int64)', 'phlegm': 'tf.Tensor(shape=(None,), dtype=int64)', 'throat_irritation': 'tf.Tensor(shape=(None,), dtype=int64)', 'redness_of_eyes': 'tf.Tensor(shape=(None,), dtype=int64)', 'sinus_pressure': 'tf.Tensor(shape=(None,), dtype=int64)', 'runny_nose': 'tf.Tensor(shape=(None,), dtype=int64)', 'congestion': 'tf.Tensor(shape=(None,), dtype=int64)', 'chest_pain': 'tf.Tensor(shape=(None,), dtype=int64)', 'weakness_in_limbs': 'tf.Tensor(shape=(None,), dtype=int64)', 'fast_heart_rate': 'tf.Tensor(shape=(None,), dtype=int64)', 'pain_during_bowel_movements': 'tf.Tensor(shape=(None,), dtype=int64)', 'pain_in_anal_region': 'tf.Tensor(shape=(None,), dtype=int64)', 'bloody_stool': 'tf.Tensor(shape=(None,), dtype=int64)', 'irritation_in_anus': 'tf.Tensor(shape=(None,), dtype=int64)', 'neck_pain': 'tf.Tensor(shape=(None,), dtype=int64)', 'dizziness': 'tf.Tensor(shape=(None,), dtype=int64)', 'cramps': 'tf.Tensor(shape=(None,), dtype=int64)', 'bruising': 'tf.Tensor(shape=(None,), dtype=int64)', 'obesity': 'tf.Tensor(shape=(None,), dtype=int64)', 'swollen_legs': 'tf.Tensor(shape=(None,), dtype=int64)', 'swollen_blood_vessels': 'tf.Tensor(shape=(None,), dtype=int64)', 'puffy_face_and_eyes': 'tf.Tensor(shape=(None,), dtype=int64)', 'enlarged_thyroid': 'tf.Tensor(shape=(None,), dtype=int64)', 'brittle_nails': 'tf.Tensor(shape=(None,), dtype=int64)', 'swollen_extremeties': 'tf.Tensor(shape=(None,), dtype=int64)', 'excessive_hunger': 'tf.Tensor(shape=(None,), dtype=int64)', 'extra_marital_contacts': 'tf.Tensor(shape=(None,), dtype=int64)', 'drying_and_tingling_lips': 'tf.Tensor(shape=(None,), dtype=int64)', 'slurred_speech': 'tf.Tensor(shape=(None,), dtype=int64)', 'knee_pain': 'tf.Tensor(shape=(None,), dtype=int64)', 'hip_joint_pain': 'tf.Tensor(shape=(None,), dtype=int64)', 'muscle_weakness': 'tf.Tensor(shape=(None,), dtype=int64)', 'stiff_neck': 'tf.Tensor(shape=(None,), dtype=int64)', 'swelling_joints': 'tf.Tensor(shape=(None,), dtype=int64)', 'movement_stiffness': 'tf.Tensor(shape=(None,), dtype=int64)', 'spinning_movements': 'tf.Tensor(shape=(None,), dtype=int64)', 'loss_of_balance': 'tf.Tensor(shape=(None,), dtype=int64)', 'unsteadiness': 'tf.Tensor(shape=(None,), dtype=int64)', 'weakness_of_one_body_side': 'tf.Tensor(shape=(None,), dtype=int64)', 'loss_of_smell': 'tf.Tensor(shape=(None,), dtype=int64)', 'bladder_discomfort': 'tf.Tensor(shape=(None,), dtype=int64)', 'foul_smell_of urine': 'tf.Tensor(shape=(None,), dtype=int64)', 'continuous_feel_of_urine': 'tf.Tensor(shape=(None,), dtype=int64)', 'passage_of_gases': 'tf.Tensor(shape=(None,), dtype=int64)', 'internal_itching': 'tf.Tensor(shape=(None,), dtype=int64)', 'toxic_look_(typhos)': 'tf.Tensor(shape=(None,), dtype=int64)', 'depression': 'tf.Tensor(shape=(None,), dtype=int64)', 'irritability': 'tf.Tensor(shape=(None,), dtype=int64)', 'muscle_pain': 'tf.Tensor(shape=(None,), dtype=int64)', 'altered_sensorium': 'tf.Tensor(shape=(None,), dtype=int64)', 'red_spots_over_body': 'tf.Tensor(shape=(None,), dtype=int64)', 'belly_pain': 'tf.Tensor(shape=(None,), dtype=int64)', 'abnormal_menstruation': 'tf.Tensor(shape=(None,), dtype=int64)', 'dischromic _patches': 'tf.Tensor(shape=(None,), dtype=int64)', 'watering_from_eyes': 'tf.Tensor(shape=(None,), dtype=int64)', 'increased_appetite': 'tf.Tensor(shape=(None,), dtype=int64)', 'polyuria': 'tf.Tensor(shape=(None,), dtype=int64)', 'family_history': 'tf.Tensor(shape=(None,), dtype=int64)', 'mucoid_sputum': 'tf.Tensor(shape=(None,), dtype=int64)', 'rusty_sputum': 'tf.Tensor(shape=(None,), dtype=int64)', 'lack_of_concentration': 'tf.Tensor(shape=(None,), dtype=int64)', 'visual_disturbances': 'tf.Tensor(shape=(None,), dtype=int64)', 'receiving_blood_transfusion': 'tf.Tensor(shape=(None,), dtype=int64)', 'receiving_unsterile_injections': 'tf.Tensor(shape=(None,), dtype=int64)', 'coma': 'tf.Tensor(shape=(None,), dtype=int64)', 'stomach_bleeding': 'tf.Tensor(shape=(None,), dtype=int64)', 'distention_of_abdomen': 'tf.Tensor(shape=(None,), dtype=int64)', 'history_of_alcohol_consumption': 'tf.Tensor(shape=(None,), dtype=int64)', 'fluid_overload.1': 'tf.Tensor(shape=(None,), dtype=int64)', 'blood_in_sputum': 'tf.Tensor(shape=(None,), dtype=int64)', 'prominent_veins_on_calf': 'tf.Tensor(shape=(None,), dtype=int64)', 'palpitations': 'tf.Tensor(shape=(None,), dtype=int64)', 'painful_walking': 'tf.Tensor(shape=(None,), dtype=int64)', 'pus_filled_pimples': 'tf.Tensor(shape=(None,), dtype=int64)', 'blackheads': 'tf.Tensor(shape=(None,), dtype=int64)', 'scurring': 'tf.Tensor(shape=(None,), dtype=int64)', 'skin_peeling': 'tf.Tensor(shape=(None,), dtype=int64)', 'silver_like_dusting': 'tf.Tensor(shape=(None,), dtype=int64)', 'small_dents_in_nails': 'tf.Tensor(shape=(None,), dtype=int64)', 'inflammatory_nails': 'tf.Tensor(shape=(None,), dtype=int64)', 'blister': 'tf.Tensor(shape=(None,), dtype=int64)', 'red_sore_around_nose': 'tf.Tensor(shape=(None,), dtype=int64)', 'yellow_crust_ooze': 'tf.Tensor(shape=(None,), dtype=int64)'}\n          • priors_initialization=None\n          • training=True\n    \n    \n    Call arguments received:\n      • inputs={'itching': 'tf.Tensor(shape=(None,), dtype=int64)', 'skin_rash': 'tf.Tensor(shape=(None,), dtype=int64)', 'nodal_skin_eruptions': 'tf.Tensor(shape=(None,), dtype=int64)', 'continuous_sneezing': 'tf.Tensor(shape=(None,), dtype=int64)', 'shivering': 'tf.Tensor(shape=(None,), dtype=int64)', 'chills': 'tf.Tensor(shape=(None,), dtype=int64)', 'joint_pain': 'tf.Tensor(shape=(None,), dtype=int64)', 'stomach_pain': 'tf.Tensor(shape=(None,), dtype=int64)', 'acidity': 'tf.Tensor(shape=(None,), dtype=int64)', 'ulcers_on_tongue': 'tf.Tensor(shape=(None,), dtype=int64)', 'muscle_wasting': 'tf.Tensor(shape=(None,), dtype=int64)', 'vomiting': 'tf.Tensor(shape=(None,), dtype=int64)', 'burning_micturition': 'tf.Tensor(shape=(None,), dtype=int64)', 'spotting_ urination': 'tf.Tensor(shape=(None,), dtype=int64)', 'fatigue': 'tf.Tensor(shape=(None,), dtype=int64)', 'weight_gain': 'tf.Tensor(shape=(None,), dtype=int64)', 'anxiety': 'tf.Tensor(shape=(None,), dtype=int64)', 'cold_hands_and_feets': 'tf.Tensor(shape=(None,), dtype=int64)', 'mood_swings': 'tf.Tensor(shape=(None,), dtype=int64)', 'weight_loss': 'tf.Tensor(shape=(None,), dtype=int64)', 'restlessness': 'tf.Tensor(shape=(None,), dtype=int64)', 'lethargy': 'tf.Tensor(shape=(None,), dtype=int64)', 'patches_in_throat': 'tf.Tensor(shape=(None,), dtype=int64)', 'irregular_sugar_level': 'tf.Tensor(shape=(None,), dtype=int64)', 'cough': 'tf.Tensor(shape=(None,), dtype=int64)', 'high_fever': 'tf.Tensor(shape=(None,), dtype=int64)', 'sunken_eyes': 'tf.Tensor(shape=(None,), dtype=int64)', 'breathlessness': 'tf.Tensor(shape=(None,), dtype=int64)', 'sweating': 'tf.Tensor(shape=(None,), dtype=int64)', 'dehydration': 'tf.Tensor(shape=(None,), dtype=int64)', 'indigestion': 'tf.Tensor(shape=(None,), dtype=int64)', 'headache': 'tf.Tensor(shape=(None,), dtype=int64)', 'yellowish_skin': 'tf.Tensor(shape=(None,), dtype=int64)', 'dark_urine': 'tf.Tensor(shape=(None,), dtype=int64)', 'nausea': 'tf.Tensor(shape=(None,), dtype=int64)', 'loss_of_appetite': 'tf.Tensor(shape=(None,), dtype=int64)', 'pain_behind_the_eyes': 'tf.Tensor(shape=(None,), dtype=int64)', 'back_pain': 'tf.Tensor(shape=(None,), dtype=int64)', 'constipation': 'tf.Tensor(shape=(None,), dtype=int64)', 'abdominal_pain': 'tf.Tensor(shape=(None,), dtype=int64)', 'diarrhoea': 'tf.Tensor(shape=(None,), dtype=int64)', 'mild_fever': 'tf.Tensor(shape=(None,), dtype=int64)', 'yellow_urine': 'tf.Tensor(shape=(None,), dtype=int64)', 'yellowing_of_eyes': 'tf.Tensor(shape=(None,), dtype=int64)', 'acute_liver_failure': 'tf.Tensor(shape=(None,), dtype=int64)', 'fluid_overload': 'tf.Tensor(shape=(None,), dtype=int64)', 'swelling_of_stomach': 'tf.Tensor(shape=(None,), dtype=int64)', 'swelled_lymph_nodes': 'tf.Tensor(shape=(None,), dtype=int64)', 'malaise': 'tf.Tensor(shape=(None,), dtype=int64)', 'blurred_and_distorted_vision': 'tf.Tensor(shape=(None,), dtype=int64)', 'phlegm': 'tf.Tensor(shape=(None,), dtype=int64)', 'throat_irritation': 'tf.Tensor(shape=(None,), dtype=int64)', 'redness_of_eyes': 'tf.Tensor(shape=(None,), dtype=int64)', 'sinus_pressure': 'tf.Tensor(shape=(None,), dtype=int64)', 'runny_nose': 'tf.Tensor(shape=(None,), dtype=int64)', 'congestion': 'tf.Tensor(shape=(None,), dtype=int64)', 'chest_pain': 'tf.Tensor(shape=(None,), dtype=int64)', 'weakness_in_limbs': 'tf.Tensor(shape=(None,), dtype=int64)', 'fast_heart_rate': 'tf.Tensor(shape=(None,), dtype=int64)', 'pain_during_bowel_movements': 'tf.Tensor(shape=(None,), dtype=int64)', 'pain_in_anal_region': 'tf.Tensor(shape=(None,), dtype=int64)', 'bloody_stool': 'tf.Tensor(shape=(None,), dtype=int64)', 'irritation_in_anus': 'tf.Tensor(shape=(None,), dtype=int64)', 'neck_pain': 'tf.Tensor(shape=(None,), dtype=int64)', 'dizziness': 'tf.Tensor(shape=(None,), dtype=int64)', 'cramps': 'tf.Tensor(shape=(None,), dtype=int64)', 'bruising': 'tf.Tensor(shape=(None,), dtype=int64)', 'obesity': 'tf.Tensor(shape=(None,), dtype=int64)', 'swollen_legs': 'tf.Tensor(shape=(None,), dtype=int64)', 'swollen_blood_vessels': 'tf.Tensor(shape=(None,), dtype=int64)', 'puffy_face_and_eyes': 'tf.Tensor(shape=(None,), dtype=int64)', 'enlarged_thyroid': 'tf.Tensor(shape=(None,), dtype=int64)', 'brittle_nails': 'tf.Tensor(shape=(None,), dtype=int64)', 'swollen_extremeties': 'tf.Tensor(shape=(None,), dtype=int64)', 'excessive_hunger': 'tf.Tensor(shape=(None,), dtype=int64)', 'extra_marital_contacts': 'tf.Tensor(shape=(None,), dtype=int64)', 'drying_and_tingling_lips': 'tf.Tensor(shape=(None,), dtype=int64)', 'slurred_speech': 'tf.Tensor(shape=(None,), dtype=int64)', 'knee_pain': 'tf.Tensor(shape=(None,), dtype=int64)', 'hip_joint_pain': 'tf.Tensor(shape=(None,), dtype=int64)', 'muscle_weakness': 'tf.Tensor(shape=(None,), dtype=int64)', 'stiff_neck': 'tf.Tensor(shape=(None,), dtype=int64)', 'swelling_joints': 'tf.Tensor(shape=(None,), dtype=int64)', 'movement_stiffness': 'tf.Tensor(shape=(None,), dtype=int64)', 'spinning_movements': 'tf.Tensor(shape=(None,), dtype=int64)', 'loss_of_balance': 'tf.Tensor(shape=(None,), dtype=int64)', 'unsteadiness': 'tf.Tensor(shape=(None,), dtype=int64)', 'weakness_of_one_body_side': 'tf.Tensor(shape=(None,), dtype=int64)', 'loss_of_smell': 'tf.Tensor(shape=(None,), dtype=int64)', 'bladder_discomfort': 'tf.Tensor(shape=(None,), dtype=int64)', 'foul_smell_of urine': 'tf.Tensor(shape=(None,), dtype=int64)', 'continuous_feel_of_urine': 'tf.Tensor(shape=(None,), dtype=int64)', 'passage_of_gases': 'tf.Tensor(shape=(None,), dtype=int64)', 'internal_itching': 'tf.Tensor(shape=(None,), dtype=int64)', 'toxic_look_(typhos)': 'tf.Tensor(shape=(None,), dtype=int64)', 'depression': 'tf.Tensor(shape=(None,), dtype=int64)', 'irritability': 'tf.Tensor(shape=(None,), dtype=int64)', 'muscle_pain': 'tf.Tensor(shape=(None,), dtype=int64)', 'altered_sensorium': 'tf.Tensor(shape=(None,), dtype=int64)', 'red_spots_over_body': 'tf.Tensor(shape=(None,), dtype=int64)', 'belly_pain': 'tf.Tensor(shape=(None,), dtype=int64)', 'abnormal_menstruation': 'tf.Tensor(shape=(None,), dtype=int64)', 'dischromic _patches': 'tf.Tensor(shape=(None,), dtype=int64)', 'watering_from_eyes': 'tf.Tensor(shape=(None,), dtype=int64)', 'increased_appetite': 'tf.Tensor(shape=(None,), dtype=int64)', 'polyuria': 'tf.Tensor(shape=(None,), dtype=int64)', 'family_history': 'tf.Tensor(shape=(None,), dtype=int64)', 'mucoid_sputum': 'tf.Tensor(shape=(None,), dtype=int64)', 'rusty_sputum': 'tf.Tensor(shape=(None,), dtype=int64)', 'lack_of_concentration': 'tf.Tensor(shape=(None,), dtype=int64)', 'visual_disturbances': 'tf.Tensor(shape=(None,), dtype=int64)', 'receiving_blood_transfusion': 'tf.Tensor(shape=(None,), dtype=int64)', 'receiving_unsterile_injections': 'tf.Tensor(shape=(None,), dtype=int64)', 'coma': 'tf.Tensor(shape=(None,), dtype=int64)', 'stomach_bleeding': 'tf.Tensor(shape=(None,), dtype=int64)', 'distention_of_abdomen': 'tf.Tensor(shape=(None,), dtype=int64)', 'history_of_alcohol_consumption': 'tf.Tensor(shape=(None,), dtype=int64)', 'fluid_overload.1': 'tf.Tensor(shape=(None,), dtype=int64)', 'blood_in_sputum': 'tf.Tensor(shape=(None,), dtype=int64)', 'prominent_veins_on_calf': 'tf.Tensor(shape=(None,), dtype=int64)', 'palpitations': 'tf.Tensor(shape=(None,), dtype=int64)', 'painful_walking': 'tf.Tensor(shape=(None,), dtype=int64)', 'pus_filled_pimples': 'tf.Tensor(shape=(None,), dtype=int64)', 'blackheads': 'tf.Tensor(shape=(None,), dtype=int64)', 'scurring': 'tf.Tensor(shape=(None,), dtype=int64)', 'skin_peeling': 'tf.Tensor(shape=(None,), dtype=int64)', 'silver_like_dusting': 'tf.Tensor(shape=(None,), dtype=int64)', 'small_dents_in_nails': 'tf.Tensor(shape=(None,), dtype=int64)', 'inflammatory_nails': 'tf.Tensor(shape=(None,), dtype=int64)', 'blister': 'tf.Tensor(shape=(None,), dtype=int64)', 'red_sore_around_nose': 'tf.Tensor(shape=(None,), dtype=int64)', 'yellow_crust_ooze': 'tf.Tensor(shape=(None,), dtype=int64)'}\n",
     "output_type": "error",
     "traceback": [
      "\u001b[0;31m---------------------------------------------------------------------------\u001b[0m",
      "\u001b[0;31mValueError\u001b[0m                                Traceback (most recent call last)",
      "Input \u001b[0;32mIn [16]\u001b[0m, in \u001b[0;36m<cell line: 8>\u001b[0;34m()\u001b[0m\n\u001b[1;32m      5\u001b[0m \u001b[38;5;66;03m#tensorboard_callback = tensorflow.keras.callbacks.TensorBoard(log_dir=logdir)\u001b[39;00m\n\u001b[1;32m      7\u001b[0m m\u001b[38;5;241m.\u001b[39mcompile(tensorflow\u001b[38;5;241m.\u001b[39mkeras\u001b[38;5;241m.\u001b[39moptimizers\u001b[38;5;241m.\u001b[39mAdam(\u001b[38;5;241m0.01\u001b[39m), loss\u001b[38;5;241m=\u001b[39mtensorflow\u001b[38;5;241m.\u001b[39mkeras\u001b[38;5;241m.\u001b[39mlosses\u001b[38;5;241m.\u001b[39mCategoricalCrossentropy(), metrics\u001b[38;5;241m=\u001b[39m[\u001b[38;5;124m'\u001b[39m\u001b[38;5;124maccuracy\u001b[39m\u001b[38;5;124m'\u001b[39m])\n\u001b[0;32m----> 8\u001b[0m \u001b[43mm\u001b[49m\u001b[38;5;241;43m.\u001b[39;49m\u001b[43mfit\u001b[49m\u001b[43m(\u001b[49m\u001b[43mtrain\u001b[49m\u001b[43m,\u001b[49m\u001b[43m \u001b[49m\u001b[43mepochs\u001b[49m\u001b[38;5;241;43m=\u001b[39;49m\u001b[38;5;241;43m10\u001b[39;49m\u001b[43m,\u001b[49m\u001b[43m \u001b[49m\u001b[43mvalidation_data\u001b[49m\u001b[38;5;241;43m=\u001b[39;49m\u001b[43mvalid\u001b[49m\u001b[43m)\u001b[49m\n\u001b[1;32m     10\u001b[0m m\u001b[38;5;241m.\u001b[39msummary()\n",
      "File \u001b[0;32m~/.local/lib/python3.8/site-packages/keras/utils/traceback_utils.py:67\u001b[0m, in \u001b[0;36mfilter_traceback.<locals>.error_handler\u001b[0;34m(*args, **kwargs)\u001b[0m\n\u001b[1;32m     65\u001b[0m \u001b[38;5;28;01mexcept\u001b[39;00m \u001b[38;5;167;01mException\u001b[39;00m \u001b[38;5;28;01mas\u001b[39;00m e:  \u001b[38;5;66;03m# pylint: disable=broad-except\u001b[39;00m\n\u001b[1;32m     66\u001b[0m   filtered_tb \u001b[38;5;241m=\u001b[39m _process_traceback_frames(e\u001b[38;5;241m.\u001b[39m__traceback__)\n\u001b[0;32m---> 67\u001b[0m   \u001b[38;5;28;01mraise\u001b[39;00m e\u001b[38;5;241m.\u001b[39mwith_traceback(filtered_tb) \u001b[38;5;28;01mfrom\u001b[39;00m \u001b[38;5;28mNone\u001b[39m\n\u001b[1;32m     68\u001b[0m \u001b[38;5;28;01mfinally\u001b[39;00m:\n\u001b[1;32m     69\u001b[0m   \u001b[38;5;28;01mdel\u001b[39;00m filtered_tb\n",
      "File \u001b[0;32m~/.local/lib/python3.8/site-packages/tensorflow/python/framework/func_graph.py:1147\u001b[0m, in \u001b[0;36mfunc_graph_from_py_func.<locals>.autograph_handler\u001b[0;34m(*args, **kwargs)\u001b[0m\n\u001b[1;32m   1145\u001b[0m \u001b[38;5;28;01mexcept\u001b[39;00m \u001b[38;5;167;01mException\u001b[39;00m \u001b[38;5;28;01mas\u001b[39;00m e:  \u001b[38;5;66;03m# pylint:disable=broad-except\u001b[39;00m\n\u001b[1;32m   1146\u001b[0m   \u001b[38;5;28;01mif\u001b[39;00m \u001b[38;5;28mhasattr\u001b[39m(e, \u001b[38;5;124m\"\u001b[39m\u001b[38;5;124mag_error_metadata\u001b[39m\u001b[38;5;124m\"\u001b[39m):\n\u001b[0;32m-> 1147\u001b[0m     \u001b[38;5;28;01mraise\u001b[39;00m e\u001b[38;5;241m.\u001b[39mag_error_metadata\u001b[38;5;241m.\u001b[39mto_exception(e)\n\u001b[1;32m   1148\u001b[0m   \u001b[38;5;28;01melse\u001b[39;00m:\n\u001b[1;32m   1149\u001b[0m     \u001b[38;5;28;01mraise\u001b[39;00m\n",
      "\u001b[0;31mValueError\u001b[0m: in user code:\n\n    File \"/home/karim/.local/lib/python3.8/site-packages/keras/engine/training.py\", line 1021, in train_function  *\n        return step_function(self, iterator)\n    File \"/home/karim/.local/lib/python3.8/site-packages/keras/engine/training.py\", line 1010, in step_function  **\n        outputs = model.distribute_strategy.run(run_step, args=(data,))\n    File \"/home/karim/.local/lib/python3.8/site-packages/keras/engine/training.py\", line 1000, in run_step  **\n        outputs = model.train_step(data)\n    File \"/home/karim/.local/lib/python3.8/site-packages/keras/engine/training.py\", line 859, in train_step\n        y_pred = self(x, training=True)\n    File \"/home/karim/.local/lib/python3.8/site-packages/keras/utils/traceback_utils.py\", line 67, in error_handler\n        raise e.with_traceback(filtered_tb) from None\n\n    ValueError: Exception encountered when calling layer \"tab_net_classifier_2\" (type TabNetClassifier).\n    \n    in user code:\n    \n        File \"/home/karim/Research/DSAA2022/tabnet/classifier.py\", line 108, in call  *\n            prediction, _, _, _ = self.encoder(inputs, training=True)\n        File \"/home/karim/.local/lib/python3.8/site-packages/keras/utils/traceback_utils.py\", line 67, in error_handler  **\n            raise e.with_traceback(filtered_tb) from None\n    \n        ValueError: Exception encountered when calling layer \"tab_net_encoder_2\" (type TabNetEncoder).\n        \n        in user code:\n        \n            File \"/home/karim/Research/DSAA2022/tabnet/encoder.py\", line 162, in call  *\n                features = self.input_features(inputs)\n            File \"/home/karim/.local/lib/python3.8/site-packages/keras/utils/traceback_utils.py\", line 67, in error_handler  **\n                raise e.with_traceback(filtered_tb) from None\n            File \"/usr/lib/python3.8/contextlib.py\", line 113, in __enter__\n                return next(self.gen)\n        \n            ValueError: Exception encountered when calling layer \"dense_features_2\" (type DenseFeatures).\n            \n            'dischromic _patches' is not a valid scope name. A scope name has to match the following pattern: ^[A-Za-z0-9_.\\\\/>-]*$\n            \n            Call arguments received:\n              • features={'itching': 'tf.Tensor(shape=(None,), dtype=int64)', 'skin_rash': 'tf.Tensor(shape=(None,), dtype=int64)', 'nodal_skin_eruptions': 'tf.Tensor(shape=(None,), dtype=int64)', 'continuous_sneezing': 'tf.Tensor(shape=(None,), dtype=int64)', 'shivering': 'tf.Tensor(shape=(None,), dtype=int64)', 'chills': 'tf.Tensor(shape=(None,), dtype=int64)', 'joint_pain': 'tf.Tensor(shape=(None,), dtype=int64)', 'stomach_pain': 'tf.Tensor(shape=(None,), dtype=int64)', 'acidity': 'tf.Tensor(shape=(None,), dtype=int64)', 'ulcers_on_tongue': 'tf.Tensor(shape=(None,), dtype=int64)', 'muscle_wasting': 'tf.Tensor(shape=(None,), dtype=int64)', 'vomiting': 'tf.Tensor(shape=(None,), dtype=int64)', 'burning_micturition': 'tf.Tensor(shape=(None,), dtype=int64)', 'spotting_ urination': 'tf.Tensor(shape=(None,), dtype=int64)', 'fatigue': 'tf.Tensor(shape=(None,), dtype=int64)', 'weight_gain': 'tf.Tensor(shape=(None,), dtype=int64)', 'anxiety': 'tf.Tensor(shape=(None,), dtype=int64)', 'cold_hands_and_feets': 'tf.Tensor(shape=(None,), dtype=int64)', 'mood_swings': 'tf.Tensor(shape=(None,), dtype=int64)', 'weight_loss': 'tf.Tensor(shape=(None,), dtype=int64)', 'restlessness': 'tf.Tensor(shape=(None,), dtype=int64)', 'lethargy': 'tf.Tensor(shape=(None,), dtype=int64)', 'patches_in_throat': 'tf.Tensor(shape=(None,), dtype=int64)', 'irregular_sugar_level': 'tf.Tensor(shape=(None,), dtype=int64)', 'cough': 'tf.Tensor(shape=(None,), dtype=int64)', 'high_fever': 'tf.Tensor(shape=(None,), dtype=int64)', 'sunken_eyes': 'tf.Tensor(shape=(None,), dtype=int64)', 'breathlessness': 'tf.Tensor(shape=(None,), dtype=int64)', 'sweating': 'tf.Tensor(shape=(None,), dtype=int64)', 'dehydration': 'tf.Tensor(shape=(None,), dtype=int64)', 'indigestion': 'tf.Tensor(shape=(None,), dtype=int64)', 'headache': 'tf.Tensor(shape=(None,), dtype=int64)', 'yellowish_skin': 'tf.Tensor(shape=(None,), dtype=int64)', 'dark_urine': 'tf.Tensor(shape=(None,), dtype=int64)', 'nausea': 'tf.Tensor(shape=(None,), dtype=int64)', 'loss_of_appetite': 'tf.Tensor(shape=(None,), dtype=int64)', 'pain_behind_the_eyes': 'tf.Tensor(shape=(None,), dtype=int64)', 'back_pain': 'tf.Tensor(shape=(None,), dtype=int64)', 'constipation': 'tf.Tensor(shape=(None,), dtype=int64)', 'abdominal_pain': 'tf.Tensor(shape=(None,), dtype=int64)', 'diarrhoea': 'tf.Tensor(shape=(None,), dtype=int64)', 'mild_fever': 'tf.Tensor(shape=(None,), dtype=int64)', 'yellow_urine': 'tf.Tensor(shape=(None,), dtype=int64)', 'yellowing_of_eyes': 'tf.Tensor(shape=(None,), dtype=int64)', 'acute_liver_failure': 'tf.Tensor(shape=(None,), dtype=int64)', 'fluid_overload': 'tf.Tensor(shape=(None,), dtype=int64)', 'swelling_of_stomach': 'tf.Tensor(shape=(None,), dtype=int64)', 'swelled_lymph_nodes': 'tf.Tensor(shape=(None,), dtype=int64)', 'malaise': 'tf.Tensor(shape=(None,), dtype=int64)', 'blurred_and_distorted_vision': 'tf.Tensor(shape=(None,), dtype=int64)', 'phlegm': 'tf.Tensor(shape=(None,), dtype=int64)', 'throat_irritation': 'tf.Tensor(shape=(None,), dtype=int64)', 'redness_of_eyes': 'tf.Tensor(shape=(None,), dtype=int64)', 'sinus_pressure': 'tf.Tensor(shape=(None,), dtype=int64)', 'runny_nose': 'tf.Tensor(shape=(None,), dtype=int64)', 'congestion': 'tf.Tensor(shape=(None,), dtype=int64)', 'chest_pain': 'tf.Tensor(shape=(None,), dtype=int64)', 'weakness_in_limbs': 'tf.Tensor(shape=(None,), dtype=int64)', 'fast_heart_rate': 'tf.Tensor(shape=(None,), dtype=int64)', 'pain_during_bowel_movements': 'tf.Tensor(shape=(None,), dtype=int64)', 'pain_in_anal_region': 'tf.Tensor(shape=(None,), dtype=int64)', 'bloody_stool': 'tf.Tensor(shape=(None,), dtype=int64)', 'irritation_in_anus': 'tf.Tensor(shape=(None,), dtype=int64)', 'neck_pain': 'tf.Tensor(shape=(None,), dtype=int64)', 'dizziness': 'tf.Tensor(shape=(None,), dtype=int64)', 'cramps': 'tf.Tensor(shape=(None,), dtype=int64)', 'bruising': 'tf.Tensor(shape=(None,), dtype=int64)', 'obesity': 'tf.Tensor(shape=(None,), dtype=int64)', 'swollen_legs': 'tf.Tensor(shape=(None,), dtype=int64)', 'swollen_blood_vessels': 'tf.Tensor(shape=(None,), dtype=int64)', 'puffy_face_and_eyes': 'tf.Tensor(shape=(None,), dtype=int64)', 'enlarged_thyroid': 'tf.Tensor(shape=(None,), dtype=int64)', 'brittle_nails': 'tf.Tensor(shape=(None,), dtype=int64)', 'swollen_extremeties': 'tf.Tensor(shape=(None,), dtype=int64)', 'excessive_hunger': 'tf.Tensor(shape=(None,), dtype=int64)', 'extra_marital_contacts': 'tf.Tensor(shape=(None,), dtype=int64)', 'drying_and_tingling_lips': 'tf.Tensor(shape=(None,), dtype=int64)', 'slurred_speech': 'tf.Tensor(shape=(None,), dtype=int64)', 'knee_pain': 'tf.Tensor(shape=(None,), dtype=int64)', 'hip_joint_pain': 'tf.Tensor(shape=(None,), dtype=int64)', 'muscle_weakness': 'tf.Tensor(shape=(None,), dtype=int64)', 'stiff_neck': 'tf.Tensor(shape=(None,), dtype=int64)', 'swelling_joints': 'tf.Tensor(shape=(None,), dtype=int64)', 'movement_stiffness': 'tf.Tensor(shape=(None,), dtype=int64)', 'spinning_movements': 'tf.Tensor(shape=(None,), dtype=int64)', 'loss_of_balance': 'tf.Tensor(shape=(None,), dtype=int64)', 'unsteadiness': 'tf.Tensor(shape=(None,), dtype=int64)', 'weakness_of_one_body_side': 'tf.Tensor(shape=(None,), dtype=int64)', 'loss_of_smell': 'tf.Tensor(shape=(None,), dtype=int64)', 'bladder_discomfort': 'tf.Tensor(shape=(None,), dtype=int64)', 'foul_smell_of urine': 'tf.Tensor(shape=(None,), dtype=int64)', 'continuous_feel_of_urine': 'tf.Tensor(shape=(None,), dtype=int64)', 'passage_of_gases': 'tf.Tensor(shape=(None,), dtype=int64)', 'internal_itching': 'tf.Tensor(shape=(None,), dtype=int64)', 'toxic_look_(typhos)': 'tf.Tensor(shape=(None,), dtype=int64)', 'depression': 'tf.Tensor(shape=(None,), dtype=int64)', 'irritability': 'tf.Tensor(shape=(None,), dtype=int64)', 'muscle_pain': 'tf.Tensor(shape=(None,), dtype=int64)', 'altered_sensorium': 'tf.Tensor(shape=(None,), dtype=int64)', 'red_spots_over_body': 'tf.Tensor(shape=(None,), dtype=int64)', 'belly_pain': 'tf.Tensor(shape=(None,), dtype=int64)', 'abnormal_menstruation': 'tf.Tensor(shape=(None,), dtype=int64)', 'dischromic _patches': 'tf.Tensor(shape=(None,), dtype=int64)', 'watering_from_eyes': 'tf.Tensor(shape=(None,), dtype=int64)', 'increased_appetite': 'tf.Tensor(shape=(None,), dtype=int64)', 'polyuria': 'tf.Tensor(shape=(None,), dtype=int64)', 'family_history': 'tf.Tensor(shape=(None,), dtype=int64)', 'mucoid_sputum': 'tf.Tensor(shape=(None,), dtype=int64)', 'rusty_sputum': 'tf.Tensor(shape=(None,), dtype=int64)', 'lack_of_concentration': 'tf.Tensor(shape=(None,), dtype=int64)', 'visual_disturbances': 'tf.Tensor(shape=(None,), dtype=int64)', 'receiving_blood_transfusion': 'tf.Tensor(shape=(None,), dtype=int64)', 'receiving_unsterile_injections': 'tf.Tensor(shape=(None,), dtype=int64)', 'coma': 'tf.Tensor(shape=(None,), dtype=int64)', 'stomach_bleeding': 'tf.Tensor(shape=(None,), dtype=int64)', 'distention_of_abdomen': 'tf.Tensor(shape=(None,), dtype=int64)', 'history_of_alcohol_consumption': 'tf.Tensor(shape=(None,), dtype=int64)', 'fluid_overload.1': 'tf.Tensor(shape=(None,), dtype=int64)', 'blood_in_sputum': 'tf.Tensor(shape=(None,), dtype=int64)', 'prominent_veins_on_calf': 'tf.Tensor(shape=(None,), dtype=int64)', 'palpitations': 'tf.Tensor(shape=(None,), dtype=int64)', 'painful_walking': 'tf.Tensor(shape=(None,), dtype=int64)', 'pus_filled_pimples': 'tf.Tensor(shape=(None,), dtype=int64)', 'blackheads': 'tf.Tensor(shape=(None,), dtype=int64)', 'scurring': 'tf.Tensor(shape=(None,), dtype=int64)', 'skin_peeling': 'tf.Tensor(shape=(None,), dtype=int64)', 'silver_like_dusting': 'tf.Tensor(shape=(None,), dtype=int64)', 'small_dents_in_nails': 'tf.Tensor(shape=(None,), dtype=int64)', 'inflammatory_nails': 'tf.Tensor(shape=(None,), dtype=int64)', 'blister': 'tf.Tensor(shape=(None,), dtype=int64)', 'red_sore_around_nose': 'tf.Tensor(shape=(None,), dtype=int64)', 'yellow_crust_ooze': 'tf.Tensor(shape=(None,), dtype=int64)'}\n              • cols_to_output_tensors=None\n              • training=True\n        \n        \n        Call arguments received:\n          • inputs={'itching': 'tf.Tensor(shape=(None,), dtype=int64)', 'skin_rash': 'tf.Tensor(shape=(None,), dtype=int64)', 'nodal_skin_eruptions': 'tf.Tensor(shape=(None,), dtype=int64)', 'continuous_sneezing': 'tf.Tensor(shape=(None,), dtype=int64)', 'shivering': 'tf.Tensor(shape=(None,), dtype=int64)', 'chills': 'tf.Tensor(shape=(None,), dtype=int64)', 'joint_pain': 'tf.Tensor(shape=(None,), dtype=int64)', 'stomach_pain': 'tf.Tensor(shape=(None,), dtype=int64)', 'acidity': 'tf.Tensor(shape=(None,), dtype=int64)', 'ulcers_on_tongue': 'tf.Tensor(shape=(None,), dtype=int64)', 'muscle_wasting': 'tf.Tensor(shape=(None,), dtype=int64)', 'vomiting': 'tf.Tensor(shape=(None,), dtype=int64)', 'burning_micturition': 'tf.Tensor(shape=(None,), dtype=int64)', 'spotting_ urination': 'tf.Tensor(shape=(None,), dtype=int64)', 'fatigue': 'tf.Tensor(shape=(None,), dtype=int64)', 'weight_gain': 'tf.Tensor(shape=(None,), dtype=int64)', 'anxiety': 'tf.Tensor(shape=(None,), dtype=int64)', 'cold_hands_and_feets': 'tf.Tensor(shape=(None,), dtype=int64)', 'mood_swings': 'tf.Tensor(shape=(None,), dtype=int64)', 'weight_loss': 'tf.Tensor(shape=(None,), dtype=int64)', 'restlessness': 'tf.Tensor(shape=(None,), dtype=int64)', 'lethargy': 'tf.Tensor(shape=(None,), dtype=int64)', 'patches_in_throat': 'tf.Tensor(shape=(None,), dtype=int64)', 'irregular_sugar_level': 'tf.Tensor(shape=(None,), dtype=int64)', 'cough': 'tf.Tensor(shape=(None,), dtype=int64)', 'high_fever': 'tf.Tensor(shape=(None,), dtype=int64)', 'sunken_eyes': 'tf.Tensor(shape=(None,), dtype=int64)', 'breathlessness': 'tf.Tensor(shape=(None,), dtype=int64)', 'sweating': 'tf.Tensor(shape=(None,), dtype=int64)', 'dehydration': 'tf.Tensor(shape=(None,), dtype=int64)', 'indigestion': 'tf.Tensor(shape=(None,), dtype=int64)', 'headache': 'tf.Tensor(shape=(None,), dtype=int64)', 'yellowish_skin': 'tf.Tensor(shape=(None,), dtype=int64)', 'dark_urine': 'tf.Tensor(shape=(None,), dtype=int64)', 'nausea': 'tf.Tensor(shape=(None,), dtype=int64)', 'loss_of_appetite': 'tf.Tensor(shape=(None,), dtype=int64)', 'pain_behind_the_eyes': 'tf.Tensor(shape=(None,), dtype=int64)', 'back_pain': 'tf.Tensor(shape=(None,), dtype=int64)', 'constipation': 'tf.Tensor(shape=(None,), dtype=int64)', 'abdominal_pain': 'tf.Tensor(shape=(None,), dtype=int64)', 'diarrhoea': 'tf.Tensor(shape=(None,), dtype=int64)', 'mild_fever': 'tf.Tensor(shape=(None,), dtype=int64)', 'yellow_urine': 'tf.Tensor(shape=(None,), dtype=int64)', 'yellowing_of_eyes': 'tf.Tensor(shape=(None,), dtype=int64)', 'acute_liver_failure': 'tf.Tensor(shape=(None,), dtype=int64)', 'fluid_overload': 'tf.Tensor(shape=(None,), dtype=int64)', 'swelling_of_stomach': 'tf.Tensor(shape=(None,), dtype=int64)', 'swelled_lymph_nodes': 'tf.Tensor(shape=(None,), dtype=int64)', 'malaise': 'tf.Tensor(shape=(None,), dtype=int64)', 'blurred_and_distorted_vision': 'tf.Tensor(shape=(None,), dtype=int64)', 'phlegm': 'tf.Tensor(shape=(None,), dtype=int64)', 'throat_irritation': 'tf.Tensor(shape=(None,), dtype=int64)', 'redness_of_eyes': 'tf.Tensor(shape=(None,), dtype=int64)', 'sinus_pressure': 'tf.Tensor(shape=(None,), dtype=int64)', 'runny_nose': 'tf.Tensor(shape=(None,), dtype=int64)', 'congestion': 'tf.Tensor(shape=(None,), dtype=int64)', 'chest_pain': 'tf.Tensor(shape=(None,), dtype=int64)', 'weakness_in_limbs': 'tf.Tensor(shape=(None,), dtype=int64)', 'fast_heart_rate': 'tf.Tensor(shape=(None,), dtype=int64)', 'pain_during_bowel_movements': 'tf.Tensor(shape=(None,), dtype=int64)', 'pain_in_anal_region': 'tf.Tensor(shape=(None,), dtype=int64)', 'bloody_stool': 'tf.Tensor(shape=(None,), dtype=int64)', 'irritation_in_anus': 'tf.Tensor(shape=(None,), dtype=int64)', 'neck_pain': 'tf.Tensor(shape=(None,), dtype=int64)', 'dizziness': 'tf.Tensor(shape=(None,), dtype=int64)', 'cramps': 'tf.Tensor(shape=(None,), dtype=int64)', 'bruising': 'tf.Tensor(shape=(None,), dtype=int64)', 'obesity': 'tf.Tensor(shape=(None,), dtype=int64)', 'swollen_legs': 'tf.Tensor(shape=(None,), dtype=int64)', 'swollen_blood_vessels': 'tf.Tensor(shape=(None,), dtype=int64)', 'puffy_face_and_eyes': 'tf.Tensor(shape=(None,), dtype=int64)', 'enlarged_thyroid': 'tf.Tensor(shape=(None,), dtype=int64)', 'brittle_nails': 'tf.Tensor(shape=(None,), dtype=int64)', 'swollen_extremeties': 'tf.Tensor(shape=(None,), dtype=int64)', 'excessive_hunger': 'tf.Tensor(shape=(None,), dtype=int64)', 'extra_marital_contacts': 'tf.Tensor(shape=(None,), dtype=int64)', 'drying_and_tingling_lips': 'tf.Tensor(shape=(None,), dtype=int64)', 'slurred_speech': 'tf.Tensor(shape=(None,), dtype=int64)', 'knee_pain': 'tf.Tensor(shape=(None,), dtype=int64)', 'hip_joint_pain': 'tf.Tensor(shape=(None,), dtype=int64)', 'muscle_weakness': 'tf.Tensor(shape=(None,), dtype=int64)', 'stiff_neck': 'tf.Tensor(shape=(None,), dtype=int64)', 'swelling_joints': 'tf.Tensor(shape=(None,), dtype=int64)', 'movement_stiffness': 'tf.Tensor(shape=(None,), dtype=int64)', 'spinning_movements': 'tf.Tensor(shape=(None,), dtype=int64)', 'loss_of_balance': 'tf.Tensor(shape=(None,), dtype=int64)', 'unsteadiness': 'tf.Tensor(shape=(None,), dtype=int64)', 'weakness_of_one_body_side': 'tf.Tensor(shape=(None,), dtype=int64)', 'loss_of_smell': 'tf.Tensor(shape=(None,), dtype=int64)', 'bladder_discomfort': 'tf.Tensor(shape=(None,), dtype=int64)', 'foul_smell_of urine': 'tf.Tensor(shape=(None,), dtype=int64)', 'continuous_feel_of_urine': 'tf.Tensor(shape=(None,), dtype=int64)', 'passage_of_gases': 'tf.Tensor(shape=(None,), dtype=int64)', 'internal_itching': 'tf.Tensor(shape=(None,), dtype=int64)', 'toxic_look_(typhos)': 'tf.Tensor(shape=(None,), dtype=int64)', 'depression': 'tf.Tensor(shape=(None,), dtype=int64)', 'irritability': 'tf.Tensor(shape=(None,), dtype=int64)', 'muscle_pain': 'tf.Tensor(shape=(None,), dtype=int64)', 'altered_sensorium': 'tf.Tensor(shape=(None,), dtype=int64)', 'red_spots_over_body': 'tf.Tensor(shape=(None,), dtype=int64)', 'belly_pain': 'tf.Tensor(shape=(None,), dtype=int64)', 'abnormal_menstruation': 'tf.Tensor(shape=(None,), dtype=int64)', 'dischromic _patches': 'tf.Tensor(shape=(None,), dtype=int64)', 'watering_from_eyes': 'tf.Tensor(shape=(None,), dtype=int64)', 'increased_appetite': 'tf.Tensor(shape=(None,), dtype=int64)', 'polyuria': 'tf.Tensor(shape=(None,), dtype=int64)', 'family_history': 'tf.Tensor(shape=(None,), dtype=int64)', 'mucoid_sputum': 'tf.Tensor(shape=(None,), dtype=int64)', 'rusty_sputum': 'tf.Tensor(shape=(None,), dtype=int64)', 'lack_of_concentration': 'tf.Tensor(shape=(None,), dtype=int64)', 'visual_disturbances': 'tf.Tensor(shape=(None,), dtype=int64)', 'receiving_blood_transfusion': 'tf.Tensor(shape=(None,), dtype=int64)', 'receiving_unsterile_injections': 'tf.Tensor(shape=(None,), dtype=int64)', 'coma': 'tf.Tensor(shape=(None,), dtype=int64)', 'stomach_bleeding': 'tf.Tensor(shape=(None,), dtype=int64)', 'distention_of_abdomen': 'tf.Tensor(shape=(None,), dtype=int64)', 'history_of_alcohol_consumption': 'tf.Tensor(shape=(None,), dtype=int64)', 'fluid_overload.1': 'tf.Tensor(shape=(None,), dtype=int64)', 'blood_in_sputum': 'tf.Tensor(shape=(None,), dtype=int64)', 'prominent_veins_on_calf': 'tf.Tensor(shape=(None,), dtype=int64)', 'palpitations': 'tf.Tensor(shape=(None,), dtype=int64)', 'painful_walking': 'tf.Tensor(shape=(None,), dtype=int64)', 'pus_filled_pimples': 'tf.Tensor(shape=(None,), dtype=int64)', 'blackheads': 'tf.Tensor(shape=(None,), dtype=int64)', 'scurring': 'tf.Tensor(shape=(None,), dtype=int64)', 'skin_peeling': 'tf.Tensor(shape=(None,), dtype=int64)', 'silver_like_dusting': 'tf.Tensor(shape=(None,), dtype=int64)', 'small_dents_in_nails': 'tf.Tensor(shape=(None,), dtype=int64)', 'inflammatory_nails': 'tf.Tensor(shape=(None,), dtype=int64)', 'blister': 'tf.Tensor(shape=(None,), dtype=int64)', 'red_sore_around_nose': 'tf.Tensor(shape=(None,), dtype=int64)', 'yellow_crust_ooze': 'tf.Tensor(shape=(None,), dtype=int64)'}\n          • priors_initialization=None\n          • training=True\n    \n    \n    Call arguments received:\n      • inputs={'itching': 'tf.Tensor(shape=(None,), dtype=int64)', 'skin_rash': 'tf.Tensor(shape=(None,), dtype=int64)', 'nodal_skin_eruptions': 'tf.Tensor(shape=(None,), dtype=int64)', 'continuous_sneezing': 'tf.Tensor(shape=(None,), dtype=int64)', 'shivering': 'tf.Tensor(shape=(None,), dtype=int64)', 'chills': 'tf.Tensor(shape=(None,), dtype=int64)', 'joint_pain': 'tf.Tensor(shape=(None,), dtype=int64)', 'stomach_pain': 'tf.Tensor(shape=(None,), dtype=int64)', 'acidity': 'tf.Tensor(shape=(None,), dtype=int64)', 'ulcers_on_tongue': 'tf.Tensor(shape=(None,), dtype=int64)', 'muscle_wasting': 'tf.Tensor(shape=(None,), dtype=int64)', 'vomiting': 'tf.Tensor(shape=(None,), dtype=int64)', 'burning_micturition': 'tf.Tensor(shape=(None,), dtype=int64)', 'spotting_ urination': 'tf.Tensor(shape=(None,), dtype=int64)', 'fatigue': 'tf.Tensor(shape=(None,), dtype=int64)', 'weight_gain': 'tf.Tensor(shape=(None,), dtype=int64)', 'anxiety': 'tf.Tensor(shape=(None,), dtype=int64)', 'cold_hands_and_feets': 'tf.Tensor(shape=(None,), dtype=int64)', 'mood_swings': 'tf.Tensor(shape=(None,), dtype=int64)', 'weight_loss': 'tf.Tensor(shape=(None,), dtype=int64)', 'restlessness': 'tf.Tensor(shape=(None,), dtype=int64)', 'lethargy': 'tf.Tensor(shape=(None,), dtype=int64)', 'patches_in_throat': 'tf.Tensor(shape=(None,), dtype=int64)', 'irregular_sugar_level': 'tf.Tensor(shape=(None,), dtype=int64)', 'cough': 'tf.Tensor(shape=(None,), dtype=int64)', 'high_fever': 'tf.Tensor(shape=(None,), dtype=int64)', 'sunken_eyes': 'tf.Tensor(shape=(None,), dtype=int64)', 'breathlessness': 'tf.Tensor(shape=(None,), dtype=int64)', 'sweating': 'tf.Tensor(shape=(None,), dtype=int64)', 'dehydration': 'tf.Tensor(shape=(None,), dtype=int64)', 'indigestion': 'tf.Tensor(shape=(None,), dtype=int64)', 'headache': 'tf.Tensor(shape=(None,), dtype=int64)', 'yellowish_skin': 'tf.Tensor(shape=(None,), dtype=int64)', 'dark_urine': 'tf.Tensor(shape=(None,), dtype=int64)', 'nausea': 'tf.Tensor(shape=(None,), dtype=int64)', 'loss_of_appetite': 'tf.Tensor(shape=(None,), dtype=int64)', 'pain_behind_the_eyes': 'tf.Tensor(shape=(None,), dtype=int64)', 'back_pain': 'tf.Tensor(shape=(None,), dtype=int64)', 'constipation': 'tf.Tensor(shape=(None,), dtype=int64)', 'abdominal_pain': 'tf.Tensor(shape=(None,), dtype=int64)', 'diarrhoea': 'tf.Tensor(shape=(None,), dtype=int64)', 'mild_fever': 'tf.Tensor(shape=(None,), dtype=int64)', 'yellow_urine': 'tf.Tensor(shape=(None,), dtype=int64)', 'yellowing_of_eyes': 'tf.Tensor(shape=(None,), dtype=int64)', 'acute_liver_failure': 'tf.Tensor(shape=(None,), dtype=int64)', 'fluid_overload': 'tf.Tensor(shape=(None,), dtype=int64)', 'swelling_of_stomach': 'tf.Tensor(shape=(None,), dtype=int64)', 'swelled_lymph_nodes': 'tf.Tensor(shape=(None,), dtype=int64)', 'malaise': 'tf.Tensor(shape=(None,), dtype=int64)', 'blurred_and_distorted_vision': 'tf.Tensor(shape=(None,), dtype=int64)', 'phlegm': 'tf.Tensor(shape=(None,), dtype=int64)', 'throat_irritation': 'tf.Tensor(shape=(None,), dtype=int64)', 'redness_of_eyes': 'tf.Tensor(shape=(None,), dtype=int64)', 'sinus_pressure': 'tf.Tensor(shape=(None,), dtype=int64)', 'runny_nose': 'tf.Tensor(shape=(None,), dtype=int64)', 'congestion': 'tf.Tensor(shape=(None,), dtype=int64)', 'chest_pain': 'tf.Tensor(shape=(None,), dtype=int64)', 'weakness_in_limbs': 'tf.Tensor(shape=(None,), dtype=int64)', 'fast_heart_rate': 'tf.Tensor(shape=(None,), dtype=int64)', 'pain_during_bowel_movements': 'tf.Tensor(shape=(None,), dtype=int64)', 'pain_in_anal_region': 'tf.Tensor(shape=(None,), dtype=int64)', 'bloody_stool': 'tf.Tensor(shape=(None,), dtype=int64)', 'irritation_in_anus': 'tf.Tensor(shape=(None,), dtype=int64)', 'neck_pain': 'tf.Tensor(shape=(None,), dtype=int64)', 'dizziness': 'tf.Tensor(shape=(None,), dtype=int64)', 'cramps': 'tf.Tensor(shape=(None,), dtype=int64)', 'bruising': 'tf.Tensor(shape=(None,), dtype=int64)', 'obesity': 'tf.Tensor(shape=(None,), dtype=int64)', 'swollen_legs': 'tf.Tensor(shape=(None,), dtype=int64)', 'swollen_blood_vessels': 'tf.Tensor(shape=(None,), dtype=int64)', 'puffy_face_and_eyes': 'tf.Tensor(shape=(None,), dtype=int64)', 'enlarged_thyroid': 'tf.Tensor(shape=(None,), dtype=int64)', 'brittle_nails': 'tf.Tensor(shape=(None,), dtype=int64)', 'swollen_extremeties': 'tf.Tensor(shape=(None,), dtype=int64)', 'excessive_hunger': 'tf.Tensor(shape=(None,), dtype=int64)', 'extra_marital_contacts': 'tf.Tensor(shape=(None,), dtype=int64)', 'drying_and_tingling_lips': 'tf.Tensor(shape=(None,), dtype=int64)', 'slurred_speech': 'tf.Tensor(shape=(None,), dtype=int64)', 'knee_pain': 'tf.Tensor(shape=(None,), dtype=int64)', 'hip_joint_pain': 'tf.Tensor(shape=(None,), dtype=int64)', 'muscle_weakness': 'tf.Tensor(shape=(None,), dtype=int64)', 'stiff_neck': 'tf.Tensor(shape=(None,), dtype=int64)', 'swelling_joints': 'tf.Tensor(shape=(None,), dtype=int64)', 'movement_stiffness': 'tf.Tensor(shape=(None,), dtype=int64)', 'spinning_movements': 'tf.Tensor(shape=(None,), dtype=int64)', 'loss_of_balance': 'tf.Tensor(shape=(None,), dtype=int64)', 'unsteadiness': 'tf.Tensor(shape=(None,), dtype=int64)', 'weakness_of_one_body_side': 'tf.Tensor(shape=(None,), dtype=int64)', 'loss_of_smell': 'tf.Tensor(shape=(None,), dtype=int64)', 'bladder_discomfort': 'tf.Tensor(shape=(None,), dtype=int64)', 'foul_smell_of urine': 'tf.Tensor(shape=(None,), dtype=int64)', 'continuous_feel_of_urine': 'tf.Tensor(shape=(None,), dtype=int64)', 'passage_of_gases': 'tf.Tensor(shape=(None,), dtype=int64)', 'internal_itching': 'tf.Tensor(shape=(None,), dtype=int64)', 'toxic_look_(typhos)': 'tf.Tensor(shape=(None,), dtype=int64)', 'depression': 'tf.Tensor(shape=(None,), dtype=int64)', 'irritability': 'tf.Tensor(shape=(None,), dtype=int64)', 'muscle_pain': 'tf.Tensor(shape=(None,), dtype=int64)', 'altered_sensorium': 'tf.Tensor(shape=(None,), dtype=int64)', 'red_spots_over_body': 'tf.Tensor(shape=(None,), dtype=int64)', 'belly_pain': 'tf.Tensor(shape=(None,), dtype=int64)', 'abnormal_menstruation': 'tf.Tensor(shape=(None,), dtype=int64)', 'dischromic _patches': 'tf.Tensor(shape=(None,), dtype=int64)', 'watering_from_eyes': 'tf.Tensor(shape=(None,), dtype=int64)', 'increased_appetite': 'tf.Tensor(shape=(None,), dtype=int64)', 'polyuria': 'tf.Tensor(shape=(None,), dtype=int64)', 'family_history': 'tf.Tensor(shape=(None,), dtype=int64)', 'mucoid_sputum': 'tf.Tensor(shape=(None,), dtype=int64)', 'rusty_sputum': 'tf.Tensor(shape=(None,), dtype=int64)', 'lack_of_concentration': 'tf.Tensor(shape=(None,), dtype=int64)', 'visual_disturbances': 'tf.Tensor(shape=(None,), dtype=int64)', 'receiving_blood_transfusion': 'tf.Tensor(shape=(None,), dtype=int64)', 'receiving_unsterile_injections': 'tf.Tensor(shape=(None,), dtype=int64)', 'coma': 'tf.Tensor(shape=(None,), dtype=int64)', 'stomach_bleeding': 'tf.Tensor(shape=(None,), dtype=int64)', 'distention_of_abdomen': 'tf.Tensor(shape=(None,), dtype=int64)', 'history_of_alcohol_consumption': 'tf.Tensor(shape=(None,), dtype=int64)', 'fluid_overload.1': 'tf.Tensor(shape=(None,), dtype=int64)', 'blood_in_sputum': 'tf.Tensor(shape=(None,), dtype=int64)', 'prominent_veins_on_calf': 'tf.Tensor(shape=(None,), dtype=int64)', 'palpitations': 'tf.Tensor(shape=(None,), dtype=int64)', 'painful_walking': 'tf.Tensor(shape=(None,), dtype=int64)', 'pus_filled_pimples': 'tf.Tensor(shape=(None,), dtype=int64)', 'blackheads': 'tf.Tensor(shape=(None,), dtype=int64)', 'scurring': 'tf.Tensor(shape=(None,), dtype=int64)', 'skin_peeling': 'tf.Tensor(shape=(None,), dtype=int64)', 'silver_like_dusting': 'tf.Tensor(shape=(None,), dtype=int64)', 'small_dents_in_nails': 'tf.Tensor(shape=(None,), dtype=int64)', 'inflammatory_nails': 'tf.Tensor(shape=(None,), dtype=int64)', 'blister': 'tf.Tensor(shape=(None,), dtype=int64)', 'red_sore_around_nose': 'tf.Tensor(shape=(None,), dtype=int64)', 'yellow_crust_ooze': 'tf.Tensor(shape=(None,), dtype=int64)'}\n"
     ]
    }
   ],
   "source": [
    " m = TabNetClassifier(feature_columns=columns, num_features=132, num_outputs=41, feature_dim=32, output_dim=16, num_decision_steps=2, relaxation_factor=1.2, \n",
    "                                  sparsity_coefficient=0.0001, batch_momentum=0.9, classifier_activation=tensorflow.keras.activations.softmax)\n",
    "\n",
    "logdir = \"/home/karim/Research/DSAA2022/logs/\" + \"/\" + datetime.now().strftime(\"%Y%m%d-%H%M%S\")\n",
    "#tensorboard_callback = tensorflow.keras.callbacks.TensorBoard(log_dir=logdir)\n",
    "\n",
    "m.compile(tensorflow.keras.optimizers.Adam(0.01), loss=tensorflow.keras.losses.CategoricalCrossentropy(), metrics=['accuracy'])\n",
    "m.fit(train, epochs=10, validation_data=valid)\n",
    "\n",
    "m.summary()"
   ]
  },
  {
   "cell_type": "code",
   "execution_count": 12,
   "id": "f75dd33f",
   "metadata": {},
   "outputs": [],
   "source": [
    "y_pred = m.predict(test).round()"
   ]
  },
  {
   "cell_type": "code",
   "execution_count": 13,
   "id": "5f142ae5",
   "metadata": {},
   "outputs": [],
   "source": [
    "y_test_argmax = np.argmax(y_test, axis=1)\n",
    "y_pred = np.argmax(y_pred, axis=1)"
   ]
  },
  {
   "cell_type": "code",
   "execution_count": 14,
   "id": "c83d5dcc",
   "metadata": {},
   "outputs": [
    {
     "name": "stderr",
     "output_type": "stream",
     "text": [
      "/home/karim/.local/lib/python3.8/site-packages/sklearn/metrics/_classification.py:1221: UndefinedMetricWarning: Recall and F-score are ill-defined and being set to 0.0 in labels with no true samples. Use `zero_division` parameter to control this behavior.\n",
      "  _warn_prf(average, modifier, msg_start, len(result))\n"
     ]
    },
    {
     "name": "stdout",
     "output_type": "stream",
     "text": [
      "(0.8939470121158023, 0.8848836168616139, 0.8889563145284527, None)\n",
      "[[    0     0     0     0     0     0     0     0]\n",
      " [  167 46536  5683     0     0    49    11   447]\n",
      " [  418  4177 65326   236     8   379   271    29]\n",
      " [  379     0   344  7322    81     1   788     0]\n",
      " [   52     0     0   155   433     0    35     0]\n",
      " [  154    49   721    49     0  1367    10     0]\n",
      " [  452    17   358   622    27     0  2917     0]\n",
      " [   15   469    68     0     0     0     0  4631]]\n",
      "              precision    recall  f1-score   support\n",
      "\n",
      "           0       0.00      0.00      0.00         0\n",
      "           1       0.91      0.88      0.89     52893\n",
      "           2       0.90      0.92      0.91     70844\n",
      "           3       0.87      0.82      0.85      8915\n",
      "           4       0.79      0.64      0.71       675\n",
      "           5       0.76      0.58      0.66      2350\n",
      "           6       0.72      0.66      0.69      4393\n",
      "           7       0.91      0.89      0.90      5183\n",
      "\n",
      "    accuracy                           0.88    145253\n",
      "   macro avg       0.73      0.68      0.70    145253\n",
      "weighted avg       0.89      0.88      0.89    145253\n",
      "\n"
     ]
    }
   ],
   "source": [
    "from sklearn.metrics import precision_recall_fscore_support\n",
    "print(precision_recall_fscore_support(y_test_argmax, y_pred, average='weighted'))\n",
    "\n",
    "from sklearn.metrics import accuracy_score, confusion_matrix, classification_report\n",
    "confusion_matrix = confusion_matrix(y_test_argmax, y_pred)\n",
    "print(confusion_matrix)\n",
    "\n",
    "print(classification_report(y_test_argmax, y_pred))"
   ]
  },
  {
   "cell_type": "code",
   "execution_count": 16,
   "id": "b3b60c58",
   "metadata": {},
   "outputs": [
    {
     "data": {
      "text/plain": [
       "<AxesSubplot:title={'center':'Global feature importance'}>"
      ]
     },
     "execution_count": 16,
     "metadata": {},
     "output_type": "execute_result"
    },
    {
     "data": {
      "image/png": "[encoded data removed]",
      "text/plain": [
       "<Figure size 432x288 with 1 Axes>"
      ]
     },
     "metadata": {
      "needs_background": "light"
     },
     "output_type": "display_data"
    }
   ],
   "source": [
    "global_test = m.explain(dict(X_test)).numpy()\n",
    "indices_test = global_test.mean(0).argsort()[::-1]\n",
    "pd.Series(global_test.mean(0)[indices_test], index=X_test.columns[indices_test]).plot.bar(title='Global feature importance')"
   ]
  },
  {
   "cell_type": "code",
   "execution_count": null,
   "id": "2fbe70dd",
   "metadata": {},
   "outputs": [],
   "source": []
  }
 ],
 "metadata": {
  "kernelspec": {
   "display_name": "Python 3 (ipykernel)",
   "language": "python",
   "name": "python3"
  },
  "language_info": {
   "codemirror_mode": {
    "name": "ipython",
    "version": 3
   },
   "file_extension": ".py",
   "mimetype": "text/x-python",
   "name": "python",
   "nbconvert_exporter": "python",
   "pygments_lexer": "ipython3",
   "version": "3.8.10"
  },
  "latex_envs": {
   "LaTeX_envs_menu_present": true,
   "autoclose": false,
   "autocomplete": true,
   "bibliofile": "biblio.bib",
   "cite_by": "apalike",
   "current_citInitial": 1,
   "eqLabelWithNumbers": true,
   "eqNumInitial": 1,
   "hotkeys": {
    "equation": "Ctrl-E",
    "itemize": "Ctrl-I"
   },
   "labels_anchors": false,
   "latex_user_defs": false,
   "report_style_numbering": false,
   "user_envs_cfg": false
  },
  "varInspector": {
   "cols": {
    "lenName": 16,
    "lenType": 16,
    "lenVar": 40
   },
   "kernels_config": {
    "python": {
     "delete_cmd_postfix": "",
     "delete_cmd_prefix": "del ",
     "library": "var_list.py",
     "varRefreshCmd": "print(var_dic_list())"
    },
    "r": {
     "delete_cmd_postfix": ") ",
     "delete_cmd_prefix": "rm(",
     "library": "var_list.r",
     "varRefreshCmd": "cat(var_dic_list()) "
    }
   },
   "types_to_exclude": [
    "module",
    "function",
    "builtin_function_or_method",
    "instance",
    "_Feature"
   ],
   "window_display": false
  }
 },
 "nbformat": 4,
 "nbformat_minor": 5
}
