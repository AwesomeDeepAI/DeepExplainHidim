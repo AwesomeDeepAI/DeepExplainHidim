{
 "cells": [
  {
   "cell_type": "code",
   "execution_count": 1,
   "id": "63b03ccf",
   "metadata": {},
   "outputs": [],
   "source": [
    "import pandas as pd\n",
    "from tabnet.classifier import TabNetClassifier\n",
    "from tabnet.autoencoder import TabNetAutoencoder\n",
    "import tabnet_utils\n",
    "from sklearn.model_selection import train_test_split\n",
    "from datetime import datetime\n",
    "import tensorflow\n",
    "from sklearn.metrics import mean_absolute_error, mean_squared_error, r2_score, accuracy_score"
   ]
  },
  {
   "cell_type": "code",
   "execution_count": 11,
   "id": "6b631f00",
   "metadata": {},
   "outputs": [],
   "source": [
    "df = pd.read_csv('/home/karim/Research/DSAA2022/UJIndoorLoc/trainingData.csv')\n",
    "data = df.sample(frac=1).reset_index(drop=True)"
   ]
  },
  {
   "cell_type": "code",
   "execution_count": 12,
   "id": "72710f8d",
   "metadata": {},
   "outputs": [
    {
     "data": {
      "text/html": [
       "<div>\n",
       "<style scoped>\n",
       "    .dataframe tbody tr th:only-of-type {\n",
       "        vertical-align: middle;\n",
       "    }\n",
       "\n",
       "    .dataframe tbody tr th {\n",
       "        vertical-align: top;\n",
       "    }\n",
       "\n",
       "    .dataframe thead th {\n",
       "        text-align: right;\n",
       "    }\n",
       "</style>\n",
       "<table border=\"1\" class=\"dataframe\">\n",
       "  <thead>\n",
       "    <tr style=\"text-align: right;\">\n",
       "      <th></th>\n",
       "      <th>WAP001</th>\n",
       "      <th>WAP002</th>\n",
       "      <th>WAP003</th>\n",
       "      <th>WAP004</th>\n",
       "      <th>WAP005</th>\n",
       "      <th>WAP006</th>\n",
       "      <th>WAP007</th>\n",
       "      <th>WAP008</th>\n",
       "      <th>WAP009</th>\n",
       "      <th>WAP010</th>\n",
       "      <th>...</th>\n",
       "      <th>WAP520</th>\n",
       "      <th>LONGITUDE</th>\n",
       "      <th>LATITUDE</th>\n",
       "      <th>FLOOR</th>\n",
       "      <th>BUILDINGID</th>\n",
       "      <th>SPACEID</th>\n",
       "      <th>RELATIVEPOSITION</th>\n",
       "      <th>USERID</th>\n",
       "      <th>PHONEID</th>\n",
       "      <th>TIMESTAMP</th>\n",
       "    </tr>\n",
       "  </thead>\n",
       "  <tbody>\n",
       "    <tr>\n",
       "      <th>0</th>\n",
       "      <td>100</td>\n",
       "      <td>100</td>\n",
       "      <td>100</td>\n",
       "      <td>100</td>\n",
       "      <td>100</td>\n",
       "      <td>100</td>\n",
       "      <td>100</td>\n",
       "      <td>100</td>\n",
       "      <td>100</td>\n",
       "      <td>100</td>\n",
       "      <td>...</td>\n",
       "      <td>100</td>\n",
       "      <td>-7510.613928</td>\n",
       "      <td>4.864873e+06</td>\n",
       "      <td>2</td>\n",
       "      <td>1</td>\n",
       "      <td>9</td>\n",
       "      <td>1</td>\n",
       "      <td>4</td>\n",
       "      <td>18</td>\n",
       "      <td>1371736047</td>\n",
       "    </tr>\n",
       "    <tr>\n",
       "      <th>1</th>\n",
       "      <td>100</td>\n",
       "      <td>100</td>\n",
       "      <td>100</td>\n",
       "      <td>100</td>\n",
       "      <td>100</td>\n",
       "      <td>100</td>\n",
       "      <td>100</td>\n",
       "      <td>100</td>\n",
       "      <td>100</td>\n",
       "      <td>100</td>\n",
       "      <td>...</td>\n",
       "      <td>100</td>\n",
       "      <td>-7339.153887</td>\n",
       "      <td>4.864749e+06</td>\n",
       "      <td>3</td>\n",
       "      <td>2</td>\n",
       "      <td>242</td>\n",
       "      <td>1</td>\n",
       "      <td>2</td>\n",
       "      <td>23</td>\n",
       "      <td>1371716926</td>\n",
       "    </tr>\n",
       "    <tr>\n",
       "      <th>2</th>\n",
       "      <td>100</td>\n",
       "      <td>100</td>\n",
       "      <td>100</td>\n",
       "      <td>100</td>\n",
       "      <td>100</td>\n",
       "      <td>100</td>\n",
       "      <td>100</td>\n",
       "      <td>100</td>\n",
       "      <td>100</td>\n",
       "      <td>100</td>\n",
       "      <td>...</td>\n",
       "      <td>100</td>\n",
       "      <td>-7310.700860</td>\n",
       "      <td>4.864801e+06</td>\n",
       "      <td>1</td>\n",
       "      <td>2</td>\n",
       "      <td>134</td>\n",
       "      <td>1</td>\n",
       "      <td>7</td>\n",
       "      <td>6</td>\n",
       "      <td>1371723203</td>\n",
       "    </tr>\n",
       "    <tr>\n",
       "      <th>3</th>\n",
       "      <td>100</td>\n",
       "      <td>100</td>\n",
       "      <td>100</td>\n",
       "      <td>100</td>\n",
       "      <td>100</td>\n",
       "      <td>100</td>\n",
       "      <td>100</td>\n",
       "      <td>100</td>\n",
       "      <td>100</td>\n",
       "      <td>100</td>\n",
       "      <td>...</td>\n",
       "      <td>100</td>\n",
       "      <td>-7560.377608</td>\n",
       "      <td>4.864859e+06</td>\n",
       "      <td>1</td>\n",
       "      <td>1</td>\n",
       "      <td>108</td>\n",
       "      <td>1</td>\n",
       "      <td>11</td>\n",
       "      <td>13</td>\n",
       "      <td>1371720906</td>\n",
       "    </tr>\n",
       "    <tr>\n",
       "      <th>4</th>\n",
       "      <td>100</td>\n",
       "      <td>100</td>\n",
       "      <td>100</td>\n",
       "      <td>100</td>\n",
       "      <td>100</td>\n",
       "      <td>100</td>\n",
       "      <td>100</td>\n",
       "      <td>100</td>\n",
       "      <td>100</td>\n",
       "      <td>100</td>\n",
       "      <td>...</td>\n",
       "      <td>100</td>\n",
       "      <td>-7321.027693</td>\n",
       "      <td>4.864812e+06</td>\n",
       "      <td>3</td>\n",
       "      <td>2</td>\n",
       "      <td>126</td>\n",
       "      <td>1</td>\n",
       "      <td>11</td>\n",
       "      <td>13</td>\n",
       "      <td>1371716554</td>\n",
       "    </tr>\n",
       "  </tbody>\n",
       "</table>\n",
       "<p>5 rows × 529 columns</p>\n",
       "</div>"
      ],
      "text/plain": [
       "   WAP001  WAP002  WAP003  WAP004  WAP005  WAP006  WAP007  WAP008  WAP009  \\\n",
       "0     100     100     100     100     100     100     100     100     100   \n",
       "1     100     100     100     100     100     100     100     100     100   \n",
       "2     100     100     100     100     100     100     100     100     100   \n",
       "3     100     100     100     100     100     100     100     100     100   \n",
       "4     100     100     100     100     100     100     100     100     100   \n",
       "\n",
       "   WAP010  ...  WAP520    LONGITUDE      LATITUDE  FLOOR  BUILDINGID  SPACEID  \\\n",
       "0     100  ...     100 -7510.613928  4.864873e+06      2           1        9   \n",
       "1     100  ...     100 -7339.153887  4.864749e+06      3           2      242   \n",
       "2     100  ...     100 -7310.700860  4.864801e+06      1           2      134   \n",
       "3     100  ...     100 -7560.377608  4.864859e+06      1           1      108   \n",
       "4     100  ...     100 -7321.027693  4.864812e+06      3           2      126   \n",
       "\n",
       "   RELATIVEPOSITION  USERID  PHONEID   TIMESTAMP  \n",
       "0                 1       4       18  1371736047  \n",
       "1                 1       2       23  1371716926  \n",
       "2                 1       7        6  1371723203  \n",
       "3                 1      11       13  1371720906  \n",
       "4                 1      11       13  1371716554  \n",
       "\n",
       "[5 rows x 529 columns]"
      ]
     },
     "execution_count": 12,
     "metadata": {},
     "output_type": "execute_result"
    }
   ],
   "source": [
    "data.head()"
   ]
  },
  {
   "cell_type": "code",
   "execution_count": 13,
   "id": "3875f9f2",
   "metadata": {},
   "outputs": [
    {
     "data": {
      "text/plain": [
       "2    9492\n",
       "0    5249\n",
       "1    5196\n",
       "Name: BUILDINGID, dtype: int64"
      ]
     },
     "execution_count": 13,
     "metadata": {},
     "output_type": "execute_result"
    }
   ],
   "source": [
    "data['BUILDINGID'].value_counts()"
   ]
  },
  {
   "cell_type": "code",
   "execution_count": 14,
   "id": "7405597e",
   "metadata": {},
   "outputs": [],
   "source": [
    "# Remove column name 'A'\n",
    "data = data.drop(['SPACEID', 'RELATIVEPOSITION', 'USERID', 'PHONEID', 'TIMESTAMP'], axis = 1)  "
   ]
  },
  {
   "cell_type": "code",
   "execution_count": 15,
   "id": "5e33067c",
   "metadata": {},
   "outputs": [],
   "source": [
    "_, types = tabnet_utils.convert_data_types(data) \n",
    "X_train, X_test, y_train, y_test = train_test_split(data.iloc[:,:-1], data.iloc[:,-1])\n",
    "X_train, X_valid, y_train, y_valid = train_test_split(X_train, y_train, test_size=0.2, random_state=42)"
   ]
  },
  {
   "cell_type": "code",
   "execution_count": 16,
   "id": "67741e10",
   "metadata": {},
   "outputs": [
    {
     "data": {
      "text/plain": [
       "((11961, 523), (2991, 523), (4985, 523))"
      ]
     },
     "execution_count": 16,
     "metadata": {},
     "output_type": "execute_result"
    }
   ],
   "source": [
    "X_train.shape, X_valid.shape, X_test.shape"
   ]
  },
  {
   "cell_type": "code",
   "execution_count": 17,
   "id": "ba1611a2",
   "metadata": {},
   "outputs": [],
   "source": [
    "columns = [tabnet_utils.get_feature(f, types[k]) for k, f in X_train.iteritems()] "
   ]
  },
  {
   "cell_type": "code",
   "execution_count": 18,
   "id": "d70742c7",
   "metadata": {},
   "outputs": [],
   "source": [
    "y_train = tensorflow.keras.utils.to_categorical(y_train, 3)\n",
    "y_valid = tensorflow.keras.utils.to_categorical(y_valid, 3)\n",
    "y_test = tensorflow.keras.utils.to_categorical(y_test, 3)"
   ]
  },
  {
   "cell_type": "code",
   "execution_count": 19,
   "id": "b7dfbe83",
   "metadata": {},
   "outputs": [
    {
     "name": "stderr",
     "output_type": "stream",
     "text": [
      "2022-05-10 18:19:39.766690: I tensorflow/core/platform/cpu_feature_guard.cc:151] This TensorFlow binary is optimized with oneAPI Deep Neural Network Library (oneDNN) to use the following CPU instructions in performance-critical operations:  AVX2 AVX512F FMA\n",
      "To enable them in other operations, rebuild TensorFlow with the appropriate compiler flags.\n",
      "2022-05-10 18:19:41.768375: I tensorflow/core/common_runtime/gpu/gpu_device.cc:1525] Created device /job:localhost/replica:0/task:0/device:GPU:0 with 22840 MB memory:  -> device: 0, name: Quadro RTX 6000, pci bus id: 0000:17:00.0, compute capability: 7.5\n",
      "2022-05-10 18:19:41.769258: I tensorflow/core/common_runtime/gpu/gpu_device.cc:1525] Created device /job:localhost/replica:0/task:0/device:GPU:1 with 22822 MB memory:  -> device: 1, name: Quadro RTX 6000, pci bus id: 0000:73:00.0, compute capability: 7.5\n",
      "2022-05-10 18:19:41.769875: I tensorflow/core/common_runtime/gpu/gpu_device.cc:1525] Created device /job:localhost/replica:0/task:0/device:GPU:2 with 22840 MB memory:  -> device: 2, name: Quadro RTX 6000, pci bus id: 0000:a6:00.0, compute capability: 7.5\n"
     ]
    }
   ],
   "source": [
    "train, valid, test = tabnet_utils.df_to_dataset(X_train, y_train), tabnet_utils.df_to_dataset(X_valid, y_valid), tabnet_utils.df_to_dataset(X_test, y_test) "
   ]
  },
  {
   "cell_type": "code",
   "execution_count": 20,
   "id": "36913ca2",
   "metadata": {},
   "outputs": [
    {
     "name": "stderr",
     "output_type": "stream",
     "text": [
      "2022-05-10 18:19:52.774073: I tensorflow/core/common_runtime/gpu/gpu_device.cc:1525] Created device /job:localhost/replica:0/task:0/device:GPU:0 with 22840 MB memory:  -> device: 0, name: Quadro RTX 6000, pci bus id: 0000:17:00.0, compute capability: 7.5\n",
      "2022-05-10 18:19:52.774765: I tensorflow/core/common_runtime/gpu/gpu_device.cc:1525] Created device /job:localhost/replica:0/task:0/device:GPU:1 with 22822 MB memory:  -> device: 1, name: Quadro RTX 6000, pci bus id: 0000:73:00.0, compute capability: 7.5\n",
      "2022-05-10 18:19:52.775394: I tensorflow/core/common_runtime/gpu/gpu_device.cc:1525] Created device /job:localhost/replica:0/task:0/device:GPU:2 with 22840 MB memory:  -> device: 2, name: Quadro RTX 6000, pci bus id: 0000:a6:00.0, compute capability: 7.5\n"
     ]
    },
    {
     "name": "stdout",
     "output_type": "stream",
     "text": [
      "Epoch 1/30\n",
      "1/1 [==============================] - 23s 23s/step - loss: 1.1613 - accuracy: 0.3302 - val_loss: 1.0321 - val_accuracy: 0.5710\n",
      "Epoch 2/30\n",
      "1/1 [==============================] - 6s 6s/step - loss: 1.0228 - accuracy: 0.5734 - val_loss: 0.8249 - val_accuracy: 0.6573\n",
      "Epoch 3/30\n",
      "1/1 [==============================] - 6s 6s/step - loss: 0.8335 - accuracy: 0.7004 - val_loss: 0.6539 - val_accuracy: 0.8151\n",
      "Epoch 4/30\n",
      "1/1 [==============================] - 6s 6s/step - loss: 0.6778 - accuracy: 0.7736 - val_loss: 0.5475 - val_accuracy: 0.8402\n",
      "Epoch 5/30\n",
      "1/1 [==============================] - 6s 6s/step - loss: 0.5426 - accuracy: 0.8496 - val_loss: 0.4227 - val_accuracy: 0.8867\n",
      "Epoch 6/30\n",
      "1/1 [==============================] - 6s 6s/step - loss: 0.4057 - accuracy: 0.8894 - val_loss: 0.3143 - val_accuracy: 0.9034\n",
      "Epoch 7/30\n",
      "1/1 [==============================] - 7s 7s/step - loss: 0.3032 - accuracy: 0.9083 - val_loss: 0.2631 - val_accuracy: 0.9157\n",
      "Epoch 8/30\n",
      "1/1 [==============================] - 6s 6s/step - loss: 0.2558 - accuracy: 0.9154 - val_loss: 0.2161 - val_accuracy: 0.9211\n",
      "Epoch 9/30\n",
      "1/1 [==============================] - 6s 6s/step - loss: 0.2165 - accuracy: 0.9184 - val_loss: 0.1678 - val_accuracy: 0.9311\n",
      "Epoch 10/30\n",
      "1/1 [==============================] - 7s 7s/step - loss: 0.1640 - accuracy: 0.9304 - val_loss: 0.1293 - val_accuracy: 0.9682\n",
      "Epoch 11/30\n",
      "1/1 [==============================] - 6s 6s/step - loss: 0.1273 - accuracy: 0.9656 - val_loss: 0.0881 - val_accuracy: 0.9739\n",
      "Epoch 12/30\n",
      "1/1 [==============================] - 6s 6s/step - loss: 0.0901 - accuracy: 0.9707 - val_loss: 0.0636 - val_accuracy: 0.9789\n",
      "Epoch 13/30\n",
      "1/1 [==============================] - 6s 6s/step - loss: 0.0653 - accuracy: 0.9778 - val_loss: 0.0476 - val_accuracy: 0.9860\n",
      "Epoch 14/30\n",
      "1/1 [==============================] - 6s 6s/step - loss: 0.0498 - accuracy: 0.9837 - val_loss: 0.0375 - val_accuracy: 0.9900\n",
      "Epoch 15/30\n",
      "1/1 [==============================] - 6s 6s/step - loss: 0.0386 - accuracy: 0.9890 - val_loss: 0.0297 - val_accuracy: 0.9916\n",
      "Epoch 16/30\n",
      "1/1 [==============================] - 6s 6s/step - loss: 0.0276 - accuracy: 0.9923 - val_loss: 0.0276 - val_accuracy: 0.9920\n",
      "Epoch 17/30\n",
      "1/1 [==============================] - 7s 7s/step - loss: 0.0225 - accuracy: 0.9927 - val_loss: 0.0282 - val_accuracy: 0.9926\n",
      "Epoch 18/30\n",
      "1/1 [==============================] - 6s 6s/step - loss: 0.0195 - accuracy: 0.9943 - val_loss: 0.0262 - val_accuracy: 0.9933\n",
      "Epoch 19/30\n",
      "1/1 [==============================] - 6s 6s/step - loss: 0.0172 - accuracy: 0.9944 - val_loss: 0.0229 - val_accuracy: 0.9950\n",
      "Epoch 20/30\n",
      "1/1 [==============================] - 6s 6s/step - loss: 0.0140 - accuracy: 0.9968 - val_loss: 0.0224 - val_accuracy: 0.9957\n",
      "Epoch 21/30\n",
      "1/1 [==============================] - 6s 6s/step - loss: 0.0122 - accuracy: 0.9963 - val_loss: 0.0209 - val_accuracy: 0.9960\n",
      "Epoch 22/30\n",
      "1/1 [==============================] - 6s 6s/step - loss: 0.0103 - accuracy: 0.9967 - val_loss: 0.0179 - val_accuracy: 0.9977\n",
      "Epoch 23/30\n",
      "1/1 [==============================] - 8s 8s/step - loss: 0.0070 - accuracy: 0.9980 - val_loss: 0.0188 - val_accuracy: 0.9970\n",
      "Epoch 24/30\n",
      "1/1 [==============================] - 6s 6s/step - loss: 0.0062 - accuracy: 0.9987 - val_loss: 0.0189 - val_accuracy: 0.9963\n",
      "Epoch 25/30\n",
      "1/1 [==============================] - 7s 7s/step - loss: 0.0053 - accuracy: 0.9987 - val_loss: 0.0232 - val_accuracy: 0.9963\n",
      "Epoch 26/30\n",
      "1/1 [==============================] - 7s 7s/step - loss: 0.0075 - accuracy: 0.9985 - val_loss: 0.0238 - val_accuracy: 0.9963\n",
      "Epoch 27/30\n",
      "1/1 [==============================] - 6s 6s/step - loss: 0.0040 - accuracy: 0.9988 - val_loss: 0.0258 - val_accuracy: 0.9953\n",
      "Epoch 28/30\n",
      "1/1 [==============================] - 7s 7s/step - loss: 0.0054 - accuracy: 0.9984 - val_loss: 0.0229 - val_accuracy: 0.9960\n",
      "Epoch 29/30\n",
      "1/1 [==============================] - 7s 7s/step - loss: 0.0042 - accuracy: 0.9984 - val_loss: 0.0193 - val_accuracy: 0.9973\n",
      "Epoch 30/30\n",
      "1/1 [==============================] - 6s 6s/step - loss: 0.0029 - accuracy: 0.9993 - val_loss: 0.0180 - val_accuracy: 0.9977\n",
      "Model: \"tab_net_classifier\"\n",
      "_________________________________________________________________\n",
      " Layer (type)                Output Shape              Param #   \n",
      "=================================================================\n",
      " tab_net_encoder (TabNetEnco  multiple                 201700    \n",
      " der)                                                            \n",
      "                                                                 \n",
      "=================================================================\n",
      "Total params: 201,700\n",
      "Trainable params: 196,514\n",
      "Non-trainable params: 5,186\n",
      "_________________________________________________________________\n",
      "Model: \"tab_net_encoder\"\n",
      "_________________________________________________________________\n",
      " Layer (type)                Output Shape              Param #   \n",
      "=================================================================\n",
      " dense_features (DenseFeatur  multiple                 0         \n",
      " es)                                                             \n",
      "                                                                 \n",
      " input_bn (BatchNormalizatio  multiple                 2092      \n",
      " n)                                                              \n",
      "                                                                 \n",
      " shared_feature_transform_bl  multiple                 76160     \n",
      " ock (SharedFeatureTransform                                     \n",
      " Block)                                                          \n",
      "                                                                 \n",
      " step_feature_transform_bloc  multiple                 17408     \n",
      " k (StepFeatureTransformBloc                                     \n",
      " k)                                                              \n",
      "                                                                 \n",
      " step_feature_transform_bloc  multiple                 17408     \n",
      " k_1 (StepFeatureTransformBl                                     \n",
      " ock)                                                            \n",
      "                                                                 \n",
      " step_feature_transform_bloc  multiple                 17408     \n",
      " k_2 (StepFeatureTransformBl                                     \n",
      " ock)                                                            \n",
      "                                                                 \n",
      " attentive_transform_block (  multiple                 35564     \n",
      " AttentiveTransformBlock)                                        \n",
      "                                                                 \n",
      " attentive_transform_block_1  multiple                 35564     \n",
      "  (AttentiveTransformBlock)                                      \n",
      "                                                                 \n",
      " final_dense (Dense)         multiple                  96        \n",
      "                                                                 \n",
      "=================================================================\n",
      "Total params: 201,700\n",
      "Trainable params: 196,514\n",
      "Non-trainable params: 5,186\n",
      "_________________________________________________________________\n"
     ]
    }
   ],
   "source": [
    "config = tensorflow.compat.v1.ConfigProto()\n",
    "config.gpu_options.allow_growth = True\n",
    "session = tensorflow.compat.v1.Session(config=config)\n",
    "\n",
    "m = TabNetClassifier(feature_columns=columns, num_features=523, num_outputs=3, feature_dim=64, output_dim=32, num_decision_steps=2, relaxation_factor=1.2, \n",
    "                                  sparsity_coefficient=0.0001, batch_momentum=0.9, classifier_activation=tensorflow.keras.activations.softmax)\n",
    "\n",
    "logdir = \"/home/karim/Research/DSAA2022/logs/\" + \"/\" + datetime.now().strftime(\"%Y%m%d-%H%M%S\")\n",
    "tensorboard_callback = tensorflow.keras.callbacks.TensorBoard(log_dir=logdir)\n",
    "\n",
    "m.compile(tensorflow.keras.optimizers.Adam(0.01), loss=tensorflow.keras.losses.CategoricalCrossentropy(), metrics=['accuracy'])\n",
    "m.fit(train, epochs=30, validation_data=valid, callbacks=[tensorboard_callback])\n",
    "\n",
    "m.summary()"
   ]
  },
  {
   "cell_type": "code",
   "execution_count": 21,
   "id": "f75dd33f",
   "metadata": {},
   "outputs": [],
   "source": [
    "y_pred = m.predict(test).round()"
   ]
  },
  {
   "cell_type": "code",
   "execution_count": 22,
   "id": "5f142ae5",
   "metadata": {},
   "outputs": [],
   "source": [
    "y_test_argmax = np.argmax(y_test, axis=1)\n",
    "y_pred = np.argmax(y_pred, axis=1)"
   ]
  },
  {
   "cell_type": "code",
   "execution_count": 23,
   "id": "c83d5dcc",
   "metadata": {},
   "outputs": [
    {
     "name": "stdout",
     "output_type": "stream",
     "text": [
      "(0.9957925782121444, 0.9957873620862587, 0.995787902964338, None)\n",
      "[[1290    1    3]\n",
      " [   6 1323    3]\n",
      " [   4    4 2351]]\n",
      "              precision    recall  f1-score   support\n",
      "\n",
      "           0       0.99      1.00      0.99      1294\n",
      "           1       1.00      0.99      0.99      1332\n",
      "           2       1.00      1.00      1.00      2359\n",
      "\n",
      "    accuracy                           1.00      4985\n",
      "   macro avg       1.00      1.00      1.00      4985\n",
      "weighted avg       1.00      1.00      1.00      4985\n",
      "\n"
     ]
    }
   ],
   "source": [
    "from sklearn.metrics import precision_recall_fscore_support\n",
    "print(precision_recall_fscore_support(y_test_argmax, y_pred, average='weighted'))\n",
    "\n",
    "from sklearn.metrics import accuracy_score, confusion_matrix, classification_report\n",
    "confusion_matrix = confusion_matrix(y_test_argmax, y_pred)\n",
    "print(confusion_matrix)\n",
    "\n",
    "print(classification_report(y_test_argmax, y_pred))"
   ]
  },
  {
   "cell_type": "code",
   "execution_count": null,
   "id": "b3b60c58",
   "metadata": {},
   "outputs": [],
   "source": []
  }
 ],
 "metadata": {
  "kernelspec": {
   "display_name": "Python 3 (ipykernel)",
   "language": "python",
   "name": "python3"
  },
  "language_info": {
   "codemirror_mode": {
    "name": "ipython",
    "version": 3
   },
   "file_extension": ".py",
   "mimetype": "text/x-python",
   "name": "python",
   "nbconvert_exporter": "python",
   "pygments_lexer": "ipython3",
   "version": "3.8.10"
  },
  "latex_envs": {
   "LaTeX_envs_menu_present": true,
   "autoclose": false,
   "autocomplete": true,
   "bibliofile": "biblio.bib",
   "cite_by": "apalike",
   "current_citInitial": 1,
   "eqLabelWithNumbers": true,
   "eqNumInitial": 1,
   "hotkeys": {
    "equation": "Ctrl-E",
    "itemize": "Ctrl-I"
   },
   "labels_anchors": false,
   "latex_user_defs": false,
   "report_style_numbering": false,
   "user_envs_cfg": false
  },
  "varInspector": {
   "cols": {
    "lenName": 16,
    "lenType": 16,
    "lenVar": 40
   },
   "kernels_config": {
    "python": {
     "delete_cmd_postfix": "",
     "delete_cmd_prefix": "del ",
     "library": "var_list.py",
     "varRefreshCmd": "print(var_dic_list())"
    },
    "r": {
     "delete_cmd_postfix": ") ",
     "delete_cmd_prefix": "rm(",
     "library": "var_list.r",
     "varRefreshCmd": "cat(var_dic_list()) "
    }
   },
   "types_to_exclude": [
    "module",
    "function",
    "builtin_function_or_method",
    "instance",
    "_Feature"
   ],
   "window_display": false
  }
 },
 "nbformat": 4,
 "nbformat_minor": 5
}
