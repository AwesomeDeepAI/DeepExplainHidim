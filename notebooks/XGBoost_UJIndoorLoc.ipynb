{
 "cells": [
  {
   "cell_type": "code",
   "execution_count": 1,
   "id": "63b03ccf",
   "metadata": {},
   "outputs": [],
   "source": [
    "import pandas as pd\n",
    "from tabnet.classifier import TabNetClassifier\n",
    "from tabnet.autoencoder import TabNetAutoencoder\n",
    "import tabnet_utils\n",
    "from sklearn.model_selection import train_test_split\n",
    "from datetime import datetime\n",
    "import tensorflow\n",
    "from sklearn.metrics import mean_absolute_error, mean_squared_error, r2_score, accuracy_score"
   ]
  },
  {
   "cell_type": "code",
   "execution_count": 3,
   "id": "156370d9",
   "metadata": {},
   "outputs": [],
   "source": [
    "df = pd.read_csv('Datasets/UJIndoorLoc/trainingData/trainingData.csv')\n",
    "data = df.sample(frac=1).reset_index(drop=True)"
   ]
  },
  {
   "cell_type": "code",
   "execution_count": 4,
   "id": "505a3d3d",
   "metadata": {},
   "outputs": [],
   "source": [
    "data['BUILDINGID'].value_counts()\n",
    "data = data.drop(['SPACEID', 'RELATIVEPOSITION', 'USERID', 'PHONEID', 'TIMESTAMP'], axis = 1)  "
   ]
  },
  {
   "cell_type": "code",
   "execution_count": 5,
   "id": "cfbb8136",
   "metadata": {},
   "outputs": [
    {
     "data": {
      "text/html": [
       "<div>\n",
       "<style scoped>\n",
       "    .dataframe tbody tr th:only-of-type {\n",
       "        vertical-align: middle;\n",
       "    }\n",
       "\n",
       "    .dataframe tbody tr th {\n",
       "        vertical-align: top;\n",
       "    }\n",
       "\n",
       "    .dataframe thead th {\n",
       "        text-align: right;\n",
       "    }\n",
       "</style>\n",
       "<table border=\"1\" class=\"dataframe\">\n",
       "  <thead>\n",
       "    <tr style=\"text-align: right;\">\n",
       "      <th></th>\n",
       "      <th>WAP001</th>\n",
       "      <th>WAP002</th>\n",
       "      <th>WAP003</th>\n",
       "      <th>WAP004</th>\n",
       "      <th>WAP005</th>\n",
       "      <th>WAP006</th>\n",
       "      <th>WAP007</th>\n",
       "      <th>WAP008</th>\n",
       "      <th>WAP009</th>\n",
       "      <th>WAP010</th>\n",
       "      <th>...</th>\n",
       "      <th>WAP515</th>\n",
       "      <th>WAP516</th>\n",
       "      <th>WAP517</th>\n",
       "      <th>WAP518</th>\n",
       "      <th>WAP519</th>\n",
       "      <th>WAP520</th>\n",
       "      <th>LONGITUDE</th>\n",
       "      <th>LATITUDE</th>\n",
       "      <th>FLOOR</th>\n",
       "      <th>BUILDINGID</th>\n",
       "    </tr>\n",
       "  </thead>\n",
       "  <tbody>\n",
       "    <tr>\n",
       "      <th>0</th>\n",
       "      <td>100</td>\n",
       "      <td>100</td>\n",
       "      <td>100</td>\n",
       "      <td>100</td>\n",
       "      <td>100</td>\n",
       "      <td>100</td>\n",
       "      <td>100</td>\n",
       "      <td>100</td>\n",
       "      <td>100</td>\n",
       "      <td>100</td>\n",
       "      <td>...</td>\n",
       "      <td>100</td>\n",
       "      <td>100</td>\n",
       "      <td>-60</td>\n",
       "      <td>100</td>\n",
       "      <td>100</td>\n",
       "      <td>100</td>\n",
       "      <td>-7352.339700</td>\n",
       "      <td>4.864838e+06</td>\n",
       "      <td>3</td>\n",
       "      <td>2</td>\n",
       "    </tr>\n",
       "    <tr>\n",
       "      <th>1</th>\n",
       "      <td>100</td>\n",
       "      <td>100</td>\n",
       "      <td>100</td>\n",
       "      <td>100</td>\n",
       "      <td>100</td>\n",
       "      <td>100</td>\n",
       "      <td>100</td>\n",
       "      <td>100</td>\n",
       "      <td>100</td>\n",
       "      <td>100</td>\n",
       "      <td>...</td>\n",
       "      <td>100</td>\n",
       "      <td>100</td>\n",
       "      <td>100</td>\n",
       "      <td>100</td>\n",
       "      <td>100</td>\n",
       "      <td>100</td>\n",
       "      <td>-7560.377608</td>\n",
       "      <td>4.864859e+06</td>\n",
       "      <td>1</td>\n",
       "      <td>1</td>\n",
       "    </tr>\n",
       "    <tr>\n",
       "      <th>2</th>\n",
       "      <td>100</td>\n",
       "      <td>100</td>\n",
       "      <td>100</td>\n",
       "      <td>100</td>\n",
       "      <td>100</td>\n",
       "      <td>100</td>\n",
       "      <td>100</td>\n",
       "      <td>100</td>\n",
       "      <td>100</td>\n",
       "      <td>100</td>\n",
       "      <td>...</td>\n",
       "      <td>100</td>\n",
       "      <td>100</td>\n",
       "      <td>100</td>\n",
       "      <td>100</td>\n",
       "      <td>100</td>\n",
       "      <td>100</td>\n",
       "      <td>-7616.688900</td>\n",
       "      <td>4.864976e+06</td>\n",
       "      <td>3</td>\n",
       "      <td>0</td>\n",
       "    </tr>\n",
       "    <tr>\n",
       "      <th>3</th>\n",
       "      <td>100</td>\n",
       "      <td>100</td>\n",
       "      <td>100</td>\n",
       "      <td>100</td>\n",
       "      <td>100</td>\n",
       "      <td>100</td>\n",
       "      <td>100</td>\n",
       "      <td>100</td>\n",
       "      <td>100</td>\n",
       "      <td>100</td>\n",
       "      <td>...</td>\n",
       "      <td>100</td>\n",
       "      <td>100</td>\n",
       "      <td>-64</td>\n",
       "      <td>100</td>\n",
       "      <td>100</td>\n",
       "      <td>100</td>\n",
       "      <td>-7325.234100</td>\n",
       "      <td>4.864818e+06</td>\n",
       "      <td>2</td>\n",
       "      <td>2</td>\n",
       "    </tr>\n",
       "    <tr>\n",
       "      <th>4</th>\n",
       "      <td>100</td>\n",
       "      <td>100</td>\n",
       "      <td>100</td>\n",
       "      <td>100</td>\n",
       "      <td>100</td>\n",
       "      <td>100</td>\n",
       "      <td>100</td>\n",
       "      <td>100</td>\n",
       "      <td>100</td>\n",
       "      <td>100</td>\n",
       "      <td>...</td>\n",
       "      <td>100</td>\n",
       "      <td>100</td>\n",
       "      <td>100</td>\n",
       "      <td>100</td>\n",
       "      <td>100</td>\n",
       "      <td>100</td>\n",
       "      <td>-7609.250400</td>\n",
       "      <td>4.864978e+06</td>\n",
       "      <td>1</td>\n",
       "      <td>0</td>\n",
       "    </tr>\n",
       "  </tbody>\n",
       "</table>\n",
       "<p>5 rows × 524 columns</p>\n",
       "</div>"
      ],
      "text/plain": [
       "   WAP001  WAP002  WAP003  WAP004  WAP005  WAP006  WAP007  WAP008  WAP009  \\\n",
       "0     100     100     100     100     100     100     100     100     100   \n",
       "1     100     100     100     100     100     100     100     100     100   \n",
       "2     100     100     100     100     100     100     100     100     100   \n",
       "3     100     100     100     100     100     100     100     100     100   \n",
       "4     100     100     100     100     100     100     100     100     100   \n",
       "\n",
       "   WAP010  ...  WAP515  WAP516  WAP517  WAP518  WAP519  WAP520    LONGITUDE  \\\n",
       "0     100  ...     100     100     -60     100     100     100 -7352.339700   \n",
       "1     100  ...     100     100     100     100     100     100 -7560.377608   \n",
       "2     100  ...     100     100     100     100     100     100 -7616.688900   \n",
       "3     100  ...     100     100     -64     100     100     100 -7325.234100   \n",
       "4     100  ...     100     100     100     100     100     100 -7609.250400   \n",
       "\n",
       "       LATITUDE  FLOOR  BUILDINGID  \n",
       "0  4.864838e+06      3           2  \n",
       "1  4.864859e+06      1           1  \n",
       "2  4.864976e+06      3           0  \n",
       "3  4.864818e+06      2           2  \n",
       "4  4.864978e+06      1           0  \n",
       "\n",
       "[5 rows x 524 columns]"
      ]
     },
     "execution_count": 5,
     "metadata": {},
     "output_type": "execute_result"
    }
   ],
   "source": [
    "data.head()"
   ]
  },
  {
   "cell_type": "code",
   "execution_count": 6,
   "id": "b17db03c",
   "metadata": {},
   "outputs": [],
   "source": [
    "# Create a Pandas dataframe with all the features\n",
    "X = data.loc[:, data.columns != 'BUILDINGID']\n",
    "y = data['BUILDINGID']\n",
    "X_train, X_test, y_train, y_test = train_test_split(X, y, test_size=0.3, random_state=42)"
   ]
  },
  {
   "cell_type": "code",
   "execution_count": 8,
   "id": "6d5e4ca0",
   "metadata": {},
   "outputs": [
    {
     "data": {
      "text/plain": [
       "((13955, 523), (5982, 523), array([0, 2, 1]))"
      ]
     },
     "execution_count": 8,
     "metadata": {},
     "output_type": "execute_result"
    }
   ],
   "source": [
    "X_train.shape, X_test.shape, y_train.unique()"
   ]
  },
  {
   "cell_type": "code",
   "execution_count": null,
   "id": "05722766",
   "metadata": {},
   "outputs": [
    {
     "name": "stdout",
     "output_type": "stream",
     "text": [
      "[0]\ttrain-mlogloss:1.08368\ttest-mlogloss:1.08368\n"
     ]
    },
    {
     "name": "stderr",
     "output_type": "stream",
     "text": [
      "/home/karim/.local/lib/python3.8/site-packages/xgboost/core.py:525: FutureWarning: Pass `evals` as keyword args.  Passing these as positional arguments will be considered as error in future releases.\n",
      "  warnings.warn(\n"
     ]
    },
    {
     "name": "stdout",
     "output_type": "stream",
     "text": [
      "[1]\ttrain-mlogloss:1.06902\ttest-mlogloss:1.06902\n",
      "[2]\ttrain-mlogloss:1.05464\ttest-mlogloss:1.05463\n",
      "[3]\ttrain-mlogloss:1.04051\ttest-mlogloss:1.04050\n",
      "[4]\ttrain-mlogloss:1.02664\ttest-mlogloss:1.02663\n",
      "[5]\ttrain-mlogloss:1.01302\ttest-mlogloss:1.01301\n",
      "[6]\ttrain-mlogloss:0.99964\ttest-mlogloss:0.99963\n",
      "[7]\ttrain-mlogloss:0.98649\ttest-mlogloss:0.98648\n",
      "[8]\ttrain-mlogloss:0.97357\ttest-mlogloss:0.97356\n",
      "[9]\ttrain-mlogloss:0.96088\ttest-mlogloss:0.96086\n",
      "[10]\ttrain-mlogloss:0.94840\ttest-mlogloss:0.94838\n",
      "[11]\ttrain-mlogloss:0.93613\ttest-mlogloss:0.93611\n",
      "[12]\ttrain-mlogloss:0.92407\ttest-mlogloss:0.92405\n",
      "[13]\ttrain-mlogloss:0.91221\ttest-mlogloss:0.91219\n",
      "[14]\ttrain-mlogloss:0.90054\ttest-mlogloss:0.90052\n",
      "[15]\ttrain-mlogloss:0.88907\ttest-mlogloss:0.88905\n",
      "[16]\ttrain-mlogloss:0.87778\ttest-mlogloss:0.87776\n",
      "[17]\ttrain-mlogloss:0.86668\ttest-mlogloss:0.86666\n"
     ]
    }
   ],
   "source": [
    "import numpy as np\n",
    "import xgboost as xgb\n",
    "\n",
    "xg_train = xgb.DMatrix(X_train, label=y_train)\n",
    "xg_test = xgb.DMatrix(X_test, label=y_test)\n",
    "# setup parameters for xgboost\n",
    "param = {}\n",
    "# use softmax multi-class classification\n",
    "param['objective'] = 'multi:softmax'\n",
    "# scale weight of positive examples\n",
    "param['eta'] = 0.01\n",
    "param['max_depth'] = 10\n",
    "param['nthread'] = 10\n",
    "param['num_class'] = 3\n",
    "\n",
    "watchlist = [(xg_train, 'train'), (xg_test, 'test')]\n",
    "num_round = 100\n",
    "bst = xgb.train(param, xg_train, num_round, watchlist)\n",
    "# get prediction\n",
    "pred = bst.predict(xg_test)\n",
    "error_rate = np.sum(pred != y_test) / y_test.shape[0]\n",
    "print('Test error using softmax = {}'.format(error_rate))\n",
    "\n",
    "# do the same thing again, but output probabilities\n",
    "param['objective'] = 'multi:softprob'\n",
    "bst = xgb.train(param, xg_train, num_round, watchlist)\n",
    "# Note: this convention has been changed since xgboost-unity\n",
    "# get prediction, this is in 1D array, need reshape to (ndata, nclass)\n",
    "pred_prob = bst.predict(xg_test).reshape(y_test.shape[0], 3)\n",
    "pred_label = np.argmax(pred_prob, axis=1)\n",
    "error_rate = np.sum(pred_label != y_test) / y_test.shape[0]\n",
    "print('Test error using softprob = {}'.format(error_rate))"
   ]
  },
  {
   "cell_type": "code",
   "execution_count": 33,
   "id": "242e3582",
   "metadata": {},
   "outputs": [
    {
     "data": {
      "text/plain": [
       "(2585,)"
      ]
     },
     "execution_count": 33,
     "metadata": {},
     "output_type": "execute_result"
    }
   ],
   "source": [
    "y_test.shape"
   ]
  },
  {
   "cell_type": "code",
   "execution_count": 35,
   "id": "1d98008f",
   "metadata": {},
   "outputs": [
    {
     "name": "stdout",
     "output_type": "stream",
     "text": [
      "(0.9063193509758725, 0.9083172147001934, 0.9047232102840718, None)\n",
      "[[ 25   0   0 ...   0   0   0]\n",
      " [  0  91   0 ...   1   0   0]\n",
      " [  0   0 286 ...   2   0   0]\n",
      " ...\n",
      " [  0   0   3 ... 117   1   0]\n",
      " [  0   0   0 ...   6   8   0]\n",
      " [  0   0   0 ...   0   1  23]]\n",
      "              precision    recall  f1-score   support\n",
      "\n",
      "           0       1.00      1.00      1.00        25\n",
      "           1       0.88      0.85      0.86       107\n",
      "           2       0.97      0.98      0.97       292\n",
      "           3       0.92      0.77      0.84        74\n",
      "           4       0.67      0.44      0.53         9\n",
      "           5       0.77      0.89      0.82       113\n",
      "           6       0.92      1.00      0.96        12\n",
      "           7       0.75      0.33      0.46        36\n",
      "           8       0.92      0.98      0.95        45\n",
      "           9       0.80      0.89      0.84       108\n",
      "          10       0.84      0.84      0.84        19\n",
      "          11       0.93      0.94      0.94       133\n",
      "          12       0.93      0.89      0.91        73\n",
      "          13       1.00      1.00      1.00        39\n",
      "          14       0.99      0.97      0.98       139\n",
      "          15       0.98      0.96      0.97       104\n",
      "          16       0.90      0.93      0.92       138\n",
      "          17       0.83      0.83      0.83       126\n",
      "          18       0.95      0.83      0.88        23\n",
      "          19       0.94      0.95      0.94        98\n",
      "          20       0.96      0.94      0.95        54\n",
      "          21       1.00      0.98      0.99        52\n",
      "          22       0.99      1.00      1.00       107\n",
      "          23       0.44      0.21      0.28        34\n",
      "          24       0.80      0.93      0.86        59\n",
      "          25       0.97      0.95      0.96       112\n",
      "          26       0.81      0.87      0.84       100\n",
      "          27       0.97      0.97      0.97        29\n",
      "          28       1.00      0.99      1.00       133\n",
      "          29       0.92      0.92      0.92        25\n",
      "          30       0.85      0.91      0.88       128\n",
      "          31       0.53      0.53      0.53        15\n",
      "          32       1.00      0.96      0.98        24\n",
      "\n",
      "    accuracy                           0.91      2585\n",
      "   macro avg       0.88      0.86      0.87      2585\n",
      "weighted avg       0.91      0.91      0.90      2585\n",
      "\n"
     ]
    }
   ],
   "source": [
    "from sklearn.metrics import precision_recall_fscore_support\n",
    "print(precision_recall_fscore_support(y_test, pred_label, average='weighted'))\n",
    "\n",
    "from sklearn.metrics import accuracy_score, confusion_matrix, classification_report\n",
    "confusion_matrix = confusion_matrix(y_test, pred_label)\n",
    "print(confusion_matrix)\n",
    "\n",
    "print(classification_report(y_test, pred_label))"
   ]
  },
  {
   "cell_type": "code",
   "execution_count": null,
   "id": "9ebf9905",
   "metadata": {},
   "outputs": [],
   "source": []
  },
  {
   "cell_type": "code",
   "execution_count": null,
   "id": "dcf6fa29",
   "metadata": {},
   "outputs": [],
   "source": []
  }
 ],
 "metadata": {
  "kernelspec": {
   "display_name": "Python 3 (ipykernel)",
   "language": "python",
   "name": "python3"
  },
  "language_info": {
   "codemirror_mode": {
    "name": "ipython",
    "version": 3
   },
   "file_extension": ".py",
   "mimetype": "text/x-python",
   "name": "python",
   "nbconvert_exporter": "python",
   "pygments_lexer": "ipython3",
   "version": "3.8.10"
  },
  "latex_envs": {
   "LaTeX_envs_menu_present": true,
   "autoclose": false,
   "autocomplete": true,
   "bibliofile": "biblio.bib",
   "cite_by": "apalike",
   "current_citInitial": 1,
   "eqLabelWithNumbers": true,
   "eqNumInitial": 1,
   "hotkeys": {
    "equation": "Ctrl-E",
    "itemize": "Ctrl-I"
   },
   "labels_anchors": false,
   "latex_user_defs": false,
   "report_style_numbering": false,
   "user_envs_cfg": false
  },
  "varInspector": {
   "cols": {
    "lenName": 16,
    "lenType": 16,
    "lenVar": 40
   },
   "kernels_config": {
    "python": {
     "delete_cmd_postfix": "",
     "delete_cmd_prefix": "del ",
     "library": "var_list.py",
     "varRefreshCmd": "print(var_dic_list())"
    },
    "r": {
     "delete_cmd_postfix": ") ",
     "delete_cmd_prefix": "rm(",
     "library": "var_list.r",
     "varRefreshCmd": "cat(var_dic_list()) "
    }
   },
   "types_to_exclude": [
    "module",
    "function",
    "builtin_function_or_method",
    "instance",
    "_Feature"
   ],
   "window_display": false
  }
 },
 "nbformat": 4,
 "nbformat_minor": 5
}
